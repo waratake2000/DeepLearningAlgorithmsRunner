{
 "cells": [
  {
   "cell_type": "code",
   "execution_count": 2,
   "metadata": {},
   "outputs": [
    {
     "name": "stderr",
     "output_type": "stream",
     "text": [
      "/usr/local/lib/python3.8/dist-packages/tqdm/auto.py:21: TqdmWarning: IProgress not found. Please update jupyter and ipywidgets. See https://ipywidgets.readthedocs.io/en/stable/user_install.html\n",
      "  from .autonotebook import tqdm as notebook_tqdm\n"
     ]
    }
   ],
   "source": [
    "import torch\n",
    "from torch.utils.data import Dataset,DataLoader\n",
    "import torch.optim as optim\n",
    "import torch.nn as nn\n",
    "\n",
    "import argparse\n",
    "import importlib\n",
    "import matplotlib.pyplot as plt\n",
    "import numpy as np\n",
    "import os\n",
    "import sys\n",
    "import cv2\n",
    "import pandas as pd\n",
    "from datetime import datetime\n",
    "from tqdm import tqdm\n",
    "import datetime as dt\n",
    "\n",
    "import imgaug as ia\n",
    "import imgaug.augmenters as iaa\n",
    "from imgaug.augmentables import Keypoint, KeypointsOnImage\n",
    "\n",
    "import psutil\n",
    "import GPUtil as GPU\n",
    "import csv\n",
    "\n",
    "from device_info_writer import all_device_info_csv_writer\n",
    "import config"
   ]
  },
  {
   "cell_type": "code",
   "execution_count": 3,
   "metadata": {},
   "outputs": [],
   "source": [
    "# 後でコマンドライン引数にするパラメータ\n",
    "EPOCHS = 300\n",
    "BATCH_SIZE = 32\n",
    "LR = 0.0001\n",
    "MODEL_FILE = \"./CommonCnn.py\"\n",
    "DATA_AUG_FAC = 0\n",
    "\n",
    "plt.style.use(\"ggplot\")"
   ]
  },
  {
   "cell_type": "code",
   "execution_count": 4,
   "metadata": {},
   "outputs": [],
   "source": [
    "def train_test_split(csv_path,split):\n",
    "    df_data = pd.read_csv(csv_path,header=None)\n",
    "    df_data = df_data.dropna()\n",
    "    len_data = len(df_data)\n",
    "    valid_split = int(len_data * split)\n",
    "    train_split = int(len_data - valid_split)\n",
    "    training_samples = df_data.iloc[:train_split][:]\n",
    "    valid_samples = df_data.iloc[-valid_split:][:]\n",
    "    print(f\"Training sample instances: {len(training_samples)}\")\n",
    "    print(f\"Validation sample instances: {len(valid_samples)}\")\n",
    "    return training_samples,valid_samples"
   ]
  },
  {
   "cell_type": "code",
   "execution_count": 26,
   "metadata": {},
   "outputs": [
    {
     "name": "stdout",
     "output_type": "stream",
     "text": [
      "[461, 230, 153, 115, 92, 76, 65, 57, 51, 46, 41, 38, 35, 32, 30, 28, 27, 25, 24, 23, 21, 20, 19, 18, 17, 16, 15, 14, 13, 12, 11, 10, 9, 8, 7, 6, 5, 4, 3, 2, 1]\n"
     ]
    }
   ],
   "source": [
    "def print_division_patterns(num):\n",
    "    remainder_list = []\n",
    "    for i in range(1, num + 1):\n",
    "        quotient, _ = divmod(num, i)\n",
    "        remainder_list.append(quotient)\n",
    "    remainder_list_sorted = sorted(set(remainder_list), reverse=True)\n",
    "    print(remainder_list_sorted)\n",
    "    return remainder_list_sorted\n",
    "\n",
    "print_division_patterns(461)"
   ]
  },
  {
   "cell_type": "code",
   "execution_count": 4,
   "metadata": {},
   "outputs": [],
   "source": [
    "def AugmentFaceKeypointDataset(training_samples,data_path,aug_data_num):\n",
    "    # first_column = training_samples.iloc[:, 0]\n",
    "    data_set_list = []\n",
    "    # data_num = 1\n",
    "    for data_num in range(training_samples.shape[0]):\n",
    "        image = cv2.imread(f\"{data_path}/{training_samples.iloc[data_num, 0]}\")\n",
    "        image = cv2.cvtColor(image, cv2.COLOR_BGR2RGB)\n",
    "        orig_h,orig_w,_ = image.shape\n",
    "        # print(type(image))\n",
    "        # 画像を表示\n",
    "\n",
    "        # About keypoint\n",
    "        keypoints = training_samples.iloc[data_num][1:]\n",
    "        keypoints = np.array(keypoints,dtype=\"float32\")\n",
    "        keypoints = keypoints.reshape(-1,2)\n",
    "        keypoints = keypoints * [config.RESIZE / orig_w, config.RESIZE / orig_h]\n",
    "\n",
    "        data_set_list.append([image,keypoints])\n",
    "\n",
    "\n",
    "        # データ拡張枚数が0枚の場合はデータ拡張の部分をスキップする\n",
    "        if aug_data_num == 0:\n",
    "            continue\n",
    "\n",
    "        kps = KeypointsOnImage([\n",
    "            Keypoint(x=keypoints[0][0], y=keypoints[0][1]),\n",
    "            Keypoint(x=keypoints[1][0], y=keypoints[1][1]),\n",
    "            Keypoint(x=keypoints[2][0], y=keypoints[2][1]),\n",
    "            Keypoint(x=keypoints[3][0], y=keypoints[3][1]),\n",
    "            Keypoint(x=keypoints[4][0], y=keypoints[4][1]),\n",
    "            Keypoint(x=keypoints[5][0], y=keypoints[5][1]),\n",
    "            Keypoint(x=keypoints[6][0], y=keypoints[6][1]),\n",
    "            Keypoint(x=keypoints[7][0], y=keypoints[7][1]),\n",
    "            Keypoint(x=keypoints[8][0], y=keypoints[8][1])\n",
    "        ], shape=image.shape)\n",
    "\n",
    "        # About Augment setting\n",
    "        seq = iaa.Sequential([\n",
    "            iaa.ShearX((-30, 30)),\n",
    "            iaa.Multiply((0.8, 1.3)), # change brightness, doesn't affect keypoints\n",
    "            iaa.Affine(\n",
    "                rotate=(-50,50),\n",
    "                scale={\"x\": (0.5, 1.2), \"y\": (0.5, 1.2)},\n",
    "                cval=(10, 255)\n",
    "            ) ,\n",
    "            iaa.Invert(0.05, per_channel=0.5),\n",
    "            iaa.Fliplr(0.5),\n",
    "            iaa.RemoveSaturation((0,0.5)),\n",
    "            iaa.AddToHueAndSaturation((-50, 50), per_channel=True),\n",
    "            iaa.UniformColorQuantizationToNBits(),\n",
    "            iaa.AdditiveGaussianNoise(scale=[0, 10]),\n",
    "        ])\n",
    "\n",
    "        for aug_count in  range(aug_data_num):\n",
    "            image_aug, kps_aug = seq(image=image, keypoints=kps)\n",
    "            keypoints = []\n",
    "            for i in range(len(kps.keypoints)):\n",
    "                before = kps.keypoints[i]\n",
    "                after = kps_aug.keypoints[i]\n",
    "                keypoints.append([after.x,after.y])\n",
    "                # print(after.x)\n",
    "            keypoints = np.array(keypoints,dtype=\"float32\")\n",
    "            # print(keypoints)\n",
    "\n",
    "            image_after = kps_aug.draw_on_image(image_aug,size=0)\n",
    "\n",
    "            # データ拡張を行った画像をリストに格納する\n",
    "            data_set_list.append([image_after,keypoints])\n",
    "\n",
    "            # 描画\n",
    "            # plt.imshow(image_after)\n",
    "            # plt.scatter(keypoints[:,0], keypoints[:,1], color='r')\n",
    "            # plt.show()\n",
    "    return data_set_list"
   ]
  },
  {
   "cell_type": "code",
   "execution_count": 5,
   "metadata": {},
   "outputs": [],
   "source": [
    "def fit(model, dataloader, data,optimizer,criterion):\n",
    "    # print(\"training\")\n",
    "    model.train()\n",
    "    train_running_loss = 0.0\n",
    "    counter = 0\n",
    "    num_batches = int(len(data)/dataloader.batch_size)\n",
    "    for i, data in tqdm(enumerate(dataloader),total=num_batches):\n",
    "        counter += 1\n",
    "        image, keypoints = data[\"image\"].to(config.DEVICE), data[\"keypoints\"].to(config.DEVICE)\n",
    "        keypoints = keypoints.view(keypoints.size(0),-1)\n",
    "        # print(keypoints)\n",
    "        optimizer.zero_grad()\n",
    "        outputs = model(image)\n",
    "        loss = criterion(outputs,keypoints)\n",
    "        train_running_loss += loss.item()\n",
    "        loss.backward()\n",
    "        optimizer.step()\n",
    "\n",
    "    train_loss = train_running_loss / counter\n",
    "    return train_loss"
   ]
  },
  {
   "cell_type": "code",
   "execution_count": 6,
   "metadata": {},
   "outputs": [],
   "source": [
    "def validate(model,dataloader,data,criterion):\n",
    "    # print(\"validate\")\n",
    "    model.eval()\n",
    "    valid_running_loss = 0.0\n",
    "    counter = 0\n",
    "    num_batches = int(len(data) / dataloader.batch_size)\n",
    "    with torch.no_grad():\n",
    "        for i, data in tqdm(enumerate(dataloader),total=num_batches):\n",
    "            counter += 1\n",
    "            image, keypoints = data[\"image\"].to(config.DEVICE),data[\"keypoints\"].to(config.DEVICE)\n",
    "            keypoints = keypoints.view(keypoints.size(0),-1)\n",
    "            outputs = model(image)\n",
    "            loss = criterion(outputs,keypoints)\n",
    "            valid_running_loss += loss.item()\n",
    "            # if (epoch + 1) % 25 == 0 and i == 0:\n",
    "    valid_loss = valid_running_loss / counter\n",
    "    return valid_loss"
   ]
  },
  {
   "cell_type": "code",
   "execution_count": 7,
   "metadata": {},
   "outputs": [],
   "source": [
    "def record_progress_vram_information(file_name,epoch_num,start_time,lap_time,train_loss,valid_loss):\n",
    "    gpu = GPU.getGPUs()[0]\n",
    "    mem_info = psutil.virtual_memory()\n",
    "    used_gpu_memory = str(gpu.memoryUsed)\n",
    "    free_gpu_memory = str(gpu.memoryFree)\n",
    "    memory_percentage = str(mem_info.percent)\n",
    "    current_gpu_power_consumption = str(os.popen(\"nvidia-smi --query-gpu=power.draw --format=csv,noheader\").read().replace(\"\\n\",\"\").replace(\" W\",\"\"))\n",
    "    gpu_temperature = str(gpu.temperature)\n",
    "    with open(str(file_name),\"a\") as f:\n",
    "        writer = csv.writer(f)\n",
    "\n",
    "        # ヘッダがなければ書き込む\n",
    "        if not os.path.isfile(file_name) or os.stat(file_name).st_size == 0:\n",
    "            header = [\"epoch_num\",\"start_time\",\"lap_time\",\"train_loss\",\"valid_loss\",\"used_gpu_memory\",\"free_gpu_memory\",\"memory_percentage\",\"current_gpu_power_consumption\",\"gpu_temperature\"]\n",
    "            writer.writerow(header)\n",
    "\n",
    "        write_content = [epoch_num,start_time,lap_time,train_loss,valid_loss,used_gpu_memory,free_gpu_memory,memory_percentage,current_gpu_power_consumption,gpu_temperature]\n",
    "        writer.writerow(write_content)\n",
    "    return write_content"
   ]
  },
  {
   "cell_type": "code",
   "execution_count": 8,
   "metadata": {},
   "outputs": [
    {
     "name": "stdout",
     "output_type": "stream",
     "text": [
      "test_202306061742_CommonCnn\n"
     ]
    },
    {
     "data": {
      "text/plain": [
       "[[['Time Information'],\n",
       "  ['UTC', '2023-06-06 08:42:59.677573+00:00'],\n",
       "  ['JST', '2023-06-06 17:42:59.694445+09:00']],\n",
       " [['System Information'],\n",
       "  ['System', 'Linux'],\n",
       "  ['Node Name', '2af8d13e21d5'],\n",
       "  ['Release', '5.10.0-22-amd64'],\n",
       "  ['Version', '#1 SMP Debian 5.10.178-3 (2023-04-22)']],\n",
       " [['CPU Information'],\n",
       "  ['CPU', 'Intel(R) Core(TM) i9-10980XE CPU @ 3.00GHz'],\n",
       "  ['Processor', 'x86_64'],\n",
       "  ['Physical cores', '18'],\n",
       "  ['Total cores', '36'],\n",
       "  ['Max Frequency(Mhz)', '4633.33'],\n",
       "  ['Min Frequency(Mhz)', '1200.00'],\n",
       "  ['Current Frequency(Mhz)', '3380.15'],\n",
       "  ['Total CPU Usage(%)', '55.0']],\n",
       " [['GPU Information'],\n",
       "  ['GPU name', 'NVIDIA GeForce RTX 3090'],\n",
       "  ['NVIDIA Driver Version', '470.182.03'],\n",
       "  ['CUDA Version', '11.4'],\n",
       "  ['Total GPU memory', '24268.0'],\n",
       "  ['Used GPU memory', '5502.0'],\n",
       "  ['Free GPU memory', '18766.0'],\n",
       "  ['Memory percentage', '26.2'],\n",
       "  ['Maximum GPU power consumption', '350.00 W'],\n",
       "  ['Current GPU power consumption', '132.53 W'],\n",
       "  ['GPU temperature', '60.0']]]"
      ]
     },
     "execution_count": 8,
     "metadata": {},
     "output_type": "execute_result"
    }
   ],
   "source": [
    "# 記録データを格納するディレクトリの作成\n",
    "# 日付と時間を年月日時分秒の形式にフォーマット\n",
    "now = datetime.now()\n",
    "now_str = str(now.strftime(\"%Y%m%d%H%M\"))\n",
    "model_name = str(MODEL_FILE).replace(\"./\",\"\").replace(\".py\",\"\")\n",
    "info_dir_name = \"test_\" + now_str + f\"_{model_name}\"\n",
    "print(info_dir_name)\n",
    "# ディレクトリのパスを設定 (現在のスクリプトの位置に作成)\n",
    "# 今後記録はこのディレクトリに入れる\n",
    "info_dir_path = os.path.join(os.getcwd(), info_dir_name)\n",
    "\n",
    "# ディレクトリを作成\n",
    "os.makedirs(info_dir_path, exist_ok=True)\n",
    "\n",
    "# 指定のディレクトリにマシンの情報を記録する\n",
    "all_device_info_csv_writer(f\"{info_dir_path}/{now_str}_DeviceInfo.csv\")"
   ]
  },
  {
   "cell_type": "code",
   "execution_count": 9,
   "metadata": {},
   "outputs": [
    {
     "name": "stdout",
     "output_type": "stream",
     "text": [
      "Training sample instances: 437\n",
      "Validation sample instances: 48\n"
     ]
    },
    {
     "data": {
      "text/html": [
       "<div>\n",
       "<style scoped>\n",
       "    .dataframe tbody tr th:only-of-type {\n",
       "        vertical-align: middle;\n",
       "    }\n",
       "\n",
       "    .dataframe tbody tr th {\n",
       "        vertical-align: top;\n",
       "    }\n",
       "\n",
       "    .dataframe thead th {\n",
       "        text-align: right;\n",
       "    }\n",
       "</style>\n",
       "<table border=\"1\" class=\"dataframe\">\n",
       "  <thead>\n",
       "    <tr style=\"text-align: right;\">\n",
       "      <th></th>\n",
       "      <th>0</th>\n",
       "      <th>1</th>\n",
       "      <th>2</th>\n",
       "      <th>3</th>\n",
       "      <th>4</th>\n",
       "      <th>5</th>\n",
       "      <th>6</th>\n",
       "      <th>7</th>\n",
       "      <th>8</th>\n",
       "      <th>9</th>\n",
       "      <th>10</th>\n",
       "      <th>11</th>\n",
       "      <th>12</th>\n",
       "      <th>13</th>\n",
       "      <th>14</th>\n",
       "      <th>15</th>\n",
       "      <th>16</th>\n",
       "      <th>17</th>\n",
       "      <th>18</th>\n",
       "    </tr>\n",
       "  </thead>\n",
       "  <tbody>\n",
       "    <tr>\n",
       "      <th>0</th>\n",
       "      <td>10000310.jpg</td>\n",
       "      <td>115.97</td>\n",
       "      <td>298.27</td>\n",
       "      <td>264.70</td>\n",
       "      <td>398.60</td>\n",
       "      <td>122.64</td>\n",
       "      <td>348.51</td>\n",
       "      <td>157.53</td>\n",
       "      <td>384.36</td>\n",
       "      <td>202.38</td>\n",
       "      <td>409.78</td>\n",
       "      <td>314.26</td>\n",
       "      <td>373.97</td>\n",
       "      <td>348.48</td>\n",
       "      <td>328.99</td>\n",
       "      <td>363.52</td>\n",
       "      <td>276.01</td>\n",
       "      <td>109.18</td>\n",
       "      <td>250.23</td>\n",
       "    </tr>\n",
       "    <tr>\n",
       "      <th>1</th>\n",
       "      <td>1000050.jpg</td>\n",
       "      <td>188.82</td>\n",
       "      <td>363.66</td>\n",
       "      <td>366.81</td>\n",
       "      <td>294.72</td>\n",
       "      <td>371.96</td>\n",
       "      <td>244.08</td>\n",
       "      <td>267.75</td>\n",
       "      <td>395.64</td>\n",
       "      <td>226.64</td>\n",
       "      <td>382.22</td>\n",
       "      <td>164.09</td>\n",
       "      <td>332.26</td>\n",
       "      <td>153.12</td>\n",
       "      <td>287.41</td>\n",
       "      <td>348.37</td>\n",
       "      <td>341.99</td>\n",
       "      <td>314.68</td>\n",
       "      <td>374.39</td>\n",
       "    </tr>\n",
       "    <tr>\n",
       "      <th>2</th>\n",
       "      <td>10000760.jpg</td>\n",
       "      <td>330.06</td>\n",
       "      <td>399.94</td>\n",
       "      <td>145.02</td>\n",
       "      <td>320.96</td>\n",
       "      <td>196.06</td>\n",
       "      <td>393.08</td>\n",
       "      <td>240.18</td>\n",
       "      <td>415.46</td>\n",
       "      <td>284.66</td>\n",
       "      <td>428.42</td>\n",
       "      <td>367.74</td>\n",
       "      <td>359.34</td>\n",
       "      <td>380.52</td>\n",
       "      <td>305.73</td>\n",
       "      <td>378.99</td>\n",
       "      <td>238.40</td>\n",
       "      <td>167.41</td>\n",
       "      <td>356.80</td>\n",
       "    </tr>\n",
       "    <tr>\n",
       "      <th>3</th>\n",
       "      <td>10000990.jpg</td>\n",
       "      <td>344.38</td>\n",
       "      <td>293.29</td>\n",
       "      <td>332.73</td>\n",
       "      <td>334.41</td>\n",
       "      <td>311.03</td>\n",
       "      <td>374.69</td>\n",
       "      <td>270.52</td>\n",
       "      <td>398.45</td>\n",
       "      <td>217.05</td>\n",
       "      <td>417.46</td>\n",
       "      <td>173.04</td>\n",
       "      <td>389.56</td>\n",
       "      <td>135.14</td>\n",
       "      <td>351.51</td>\n",
       "      <td>127.26</td>\n",
       "      <td>308.89</td>\n",
       "      <td>125.85</td>\n",
       "      <td>256.52</td>\n",
       "    </tr>\n",
       "    <tr>\n",
       "      <th>4</th>\n",
       "      <td>10001010.jpg</td>\n",
       "      <td>320.07</td>\n",
       "      <td>404.20</td>\n",
       "      <td>287.40</td>\n",
       "      <td>422.63</td>\n",
       "      <td>243.11</td>\n",
       "      <td>434.33</td>\n",
       "      <td>191.76</td>\n",
       "      <td>435.80</td>\n",
       "      <td>159.74</td>\n",
       "      <td>394.54</td>\n",
       "      <td>134.86</td>\n",
       "      <td>353.07</td>\n",
       "      <td>143.20</td>\n",
       "      <td>298.45</td>\n",
       "      <td>164.00</td>\n",
       "      <td>236.68</td>\n",
       "      <td>350.73</td>\n",
       "      <td>366.09</td>\n",
       "    </tr>\n",
       "    <tr>\n",
       "      <th>...</th>\n",
       "      <td>...</td>\n",
       "      <td>...</td>\n",
       "      <td>...</td>\n",
       "      <td>...</td>\n",
       "      <td>...</td>\n",
       "      <td>...</td>\n",
       "      <td>...</td>\n",
       "      <td>...</td>\n",
       "      <td>...</td>\n",
       "      <td>...</td>\n",
       "      <td>...</td>\n",
       "      <td>...</td>\n",
       "      <td>...</td>\n",
       "      <td>...</td>\n",
       "      <td>...</td>\n",
       "      <td>...</td>\n",
       "      <td>...</td>\n",
       "      <td>...</td>\n",
       "      <td>...</td>\n",
       "    </tr>\n",
       "    <tr>\n",
       "      <th>432</th>\n",
       "      <td>32532710.jpg</td>\n",
       "      <td>184.27</td>\n",
       "      <td>389.18</td>\n",
       "      <td>269.46</td>\n",
       "      <td>376.06</td>\n",
       "      <td>305.72</td>\n",
       "      <td>348.60</td>\n",
       "      <td>322.07</td>\n",
       "      <td>304.27</td>\n",
       "      <td>324.32</td>\n",
       "      <td>255.35</td>\n",
       "      <td>117.09</td>\n",
       "      <td>279.73</td>\n",
       "      <td>133.28</td>\n",
       "      <td>323.01</td>\n",
       "      <td>149.08</td>\n",
       "      <td>361.42</td>\n",
       "      <td>227.92</td>\n",
       "      <td>401.64</td>\n",
       "    </tr>\n",
       "    <tr>\n",
       "      <th>433</th>\n",
       "      <td>32533170.jpg</td>\n",
       "      <td>160.84</td>\n",
       "      <td>412.76</td>\n",
       "      <td>345.18</td>\n",
       "      <td>285.94</td>\n",
       "      <td>120.56</td>\n",
       "      <td>330.24</td>\n",
       "      <td>140.87</td>\n",
       "      <td>374.30</td>\n",
       "      <td>201.55</td>\n",
       "      <td>429.82</td>\n",
       "      <td>248.88</td>\n",
       "      <td>440.33</td>\n",
       "      <td>289.87</td>\n",
       "      <td>413.35</td>\n",
       "      <td>337.93</td>\n",
       "      <td>336.29</td>\n",
       "      <td>320.54</td>\n",
       "      <td>381.34</td>\n",
       "    </tr>\n",
       "    <tr>\n",
       "      <th>434</th>\n",
       "      <td>3772650.jpg</td>\n",
       "      <td>115.98</td>\n",
       "      <td>326.89</td>\n",
       "      <td>285.39</td>\n",
       "      <td>390.52</td>\n",
       "      <td>208.90</td>\n",
       "      <td>411.47</td>\n",
       "      <td>251.01</td>\n",
       "      <td>429.55</td>\n",
       "      <td>337.34</td>\n",
       "      <td>274.44</td>\n",
       "      <td>337.33</td>\n",
       "      <td>324.42</td>\n",
       "      <td>169.67</td>\n",
       "      <td>396.84</td>\n",
       "      <td>140.18</td>\n",
       "      <td>365.76</td>\n",
       "      <td>318.90</td>\n",
       "      <td>361.39</td>\n",
       "    </tr>\n",
       "    <tr>\n",
       "      <th>435</th>\n",
       "      <td>3773580.jpg</td>\n",
       "      <td>177.72</td>\n",
       "      <td>353.85</td>\n",
       "      <td>150.94</td>\n",
       "      <td>319.08</td>\n",
       "      <td>337.32</td>\n",
       "      <td>342.71</td>\n",
       "      <td>301.16</td>\n",
       "      <td>366.38</td>\n",
       "      <td>261.85</td>\n",
       "      <td>380.38</td>\n",
       "      <td>206.83</td>\n",
       "      <td>386.00</td>\n",
       "      <td>366.68</td>\n",
       "      <td>311.07</td>\n",
       "      <td>145.55</td>\n",
       "      <td>229.92</td>\n",
       "      <td>138.34</td>\n",
       "      <td>278.50</td>\n",
       "    </tr>\n",
       "    <tr>\n",
       "      <th>436</th>\n",
       "      <td>377360.jpg</td>\n",
       "      <td>133.50</td>\n",
       "      <td>316.99</td>\n",
       "      <td>149.35</td>\n",
       "      <td>353.73</td>\n",
       "      <td>173.42</td>\n",
       "      <td>378.45</td>\n",
       "      <td>211.26</td>\n",
       "      <td>390.51</td>\n",
       "      <td>247.27</td>\n",
       "      <td>395.77</td>\n",
       "      <td>282.05</td>\n",
       "      <td>377.05</td>\n",
       "      <td>308.44</td>\n",
       "      <td>352.23</td>\n",
       "      <td>325.01</td>\n",
       "      <td>322.04</td>\n",
       "      <td>331.66</td>\n",
       "      <td>286.64</td>\n",
       "    </tr>\n",
       "  </tbody>\n",
       "</table>\n",
       "<p>437 rows × 19 columns</p>\n",
       "</div>"
      ],
      "text/plain": [
       "               0       1       2       3       4       5       6       7    \n",
       "0    10000310.jpg  115.97  298.27  264.70  398.60  122.64  348.51  157.53  \\\n",
       "1     1000050.jpg  188.82  363.66  366.81  294.72  371.96  244.08  267.75   \n",
       "2    10000760.jpg  330.06  399.94  145.02  320.96  196.06  393.08  240.18   \n",
       "3    10000990.jpg  344.38  293.29  332.73  334.41  311.03  374.69  270.52   \n",
       "4    10001010.jpg  320.07  404.20  287.40  422.63  243.11  434.33  191.76   \n",
       "..            ...     ...     ...     ...     ...     ...     ...     ...   \n",
       "432  32532710.jpg  184.27  389.18  269.46  376.06  305.72  348.60  322.07   \n",
       "433  32533170.jpg  160.84  412.76  345.18  285.94  120.56  330.24  140.87   \n",
       "434   3772650.jpg  115.98  326.89  285.39  390.52  208.90  411.47  251.01   \n",
       "435   3773580.jpg  177.72  353.85  150.94  319.08  337.32  342.71  301.16   \n",
       "436    377360.jpg  133.50  316.99  149.35  353.73  173.42  378.45  211.26   \n",
       "\n",
       "         8       9       10      11      12      13      14      15      16   \n",
       "0    384.36  202.38  409.78  314.26  373.97  348.48  328.99  363.52  276.01  \\\n",
       "1    395.64  226.64  382.22  164.09  332.26  153.12  287.41  348.37  341.99   \n",
       "2    415.46  284.66  428.42  367.74  359.34  380.52  305.73  378.99  238.40   \n",
       "3    398.45  217.05  417.46  173.04  389.56  135.14  351.51  127.26  308.89   \n",
       "4    435.80  159.74  394.54  134.86  353.07  143.20  298.45  164.00  236.68   \n",
       "..      ...     ...     ...     ...     ...     ...     ...     ...     ...   \n",
       "432  304.27  324.32  255.35  117.09  279.73  133.28  323.01  149.08  361.42   \n",
       "433  374.30  201.55  429.82  248.88  440.33  289.87  413.35  337.93  336.29   \n",
       "434  429.55  337.34  274.44  337.33  324.42  169.67  396.84  140.18  365.76   \n",
       "435  366.38  261.85  380.38  206.83  386.00  366.68  311.07  145.55  229.92   \n",
       "436  390.51  247.27  395.77  282.05  377.05  308.44  352.23  325.01  322.04   \n",
       "\n",
       "         17      18  \n",
       "0    109.18  250.23  \n",
       "1    314.68  374.39  \n",
       "2    167.41  356.80  \n",
       "3    125.85  256.52  \n",
       "4    350.73  366.09  \n",
       "..      ...     ...  \n",
       "432  227.92  401.64  \n",
       "433  320.54  381.34  \n",
       "434  318.90  361.39  \n",
       "435  138.34  278.50  \n",
       "436  331.66  286.64  \n",
       "\n",
       "[437 rows x 19 columns]"
      ]
     },
     "execution_count": 9,
     "metadata": {},
     "output_type": "execute_result"
    }
   ],
   "source": [
    "# csvファイルを見て、トレーニングデータとバリデーションデータを分ける\n",
    "# training_samples,valid_samples = train_test_split(f\"{str(config.DATASET_PATH)}/annotations/annotation_from_xml.csv\",config.TEST_SPLIT)\n",
    "training_samples,valid_samples = train_test_split(f\"/root/dataset/Annotated_High-Resolution_Anime/annotations/annotation_from_xml.csv\",config.TEST_SPLIT)\n",
    "training_samples"
   ]
  },
  {
   "cell_type": "code",
   "execution_count": 10,
   "metadata": {},
   "outputs": [],
   "source": [
    "# csvファイルを見て、トレーニングデータとバリデーションデータを分ける\n",
    "# training_samples,valid_samples = train_test_split(f\"{str(config.DATASET_PATH)}/annotations/annotation_from_xml.csv\",config.TEST_SPLIT)\n",
    "# training_samples,valid_samples = train_test_split(f\"/root/source/Archive/20230529/face_keypoints_data.csv\",config.TEST_SPLIT)\n",
    "# training_samples"
   ]
  },
  {
   "cell_type": "code",
   "execution_count": 11,
   "metadata": {},
   "outputs": [],
   "source": [
    "train_numpy_dataset = AugmentFaceKeypointDataset(training_samples,f\"{config.DATASET_PATH}/images\",DATA_AUG_FAC)\n",
    "# train_numpy_dataset[0]"
   ]
  },
  {
   "cell_type": "code",
   "execution_count": 12,
   "metadata": {},
   "outputs": [],
   "source": [
    "class FaceKeypointDataset(Dataset):\n",
    "    def __init__(self,dataset,resize):\n",
    "        self.data = dataset\n",
    "        self.resize = resize\n",
    "\n",
    "    def __len__(self):\n",
    "        return len(self.data)\n",
    "\n",
    "    def __getitem__(self, index):\n",
    "        image = self.data[index][0]\n",
    "        image = cv2.cvtColor(image,cv2.COLOR_BGR2RGB)\n",
    "        orig_h,orig_w,_ = image.shape\n",
    "        image = cv2.resize(image,(self.resize,self.resize))\n",
    "\n",
    "        # print(orig_h,orig_w)\n",
    "        # 画素値を0~1に変換\n",
    "        image = image / 255.0\n",
    "        image = np.transpose(image, (2, 0, 1))\n",
    "        # print(image.shape)\n",
    "        keypoints = self.data[index][1]\n",
    "        # keypoints = keypoints * [self.resize / orig_w, self.resize / orig_h]\n",
    "\n",
    "        # ランドマークの座標を画像のサイズで割ることで、割合に変換している\n",
    "        # keypoints[:, 0] *= (self.resize / orig_w)\n",
    "        # keypoints[:, 1] *= (self.resize / orig_h)\n",
    "        # print(keypoints)\n",
    "\n",
    "        keypoint_data = {\n",
    "            \"image\": torch.tensor(image, dtype=torch.float),\n",
    "            \"keypoints\": torch.tensor(keypoints,dtype=torch.float)\n",
    "        }\n",
    "        \n",
    "        return keypoint_data"
   ]
  },
  {
   "cell_type": "code",
   "execution_count": 13,
   "metadata": {},
   "outputs": [
    {
     "data": {
      "text/plain": [
       "torch.Size([3, 224, 224])"
      ]
     },
     "execution_count": 13,
     "metadata": {},
     "output_type": "execute_result"
    }
   ],
   "source": [
    "train_tensor_data = FaceKeypointDataset(train_numpy_dataset,config.RESIZE)\n",
    "train_tensor_data[0][\"image\"].shape"
   ]
  },
  {
   "cell_type": "code",
   "execution_count": 14,
   "metadata": {},
   "outputs": [
    {
     "data": {
      "text/plain": [
       "<torch.utils.data.dataloader.DataLoader at 0x7f3724150d60>"
      ]
     },
     "execution_count": 14,
     "metadata": {},
     "output_type": "execute_result"
    }
   ],
   "source": [
    "train_loader = DataLoader(train_tensor_data,batch_size=BATCH_SIZE,shuffle=True)\n",
    "train_loader"
   ]
  },
  {
   "cell_type": "code",
   "execution_count": 15,
   "metadata": {},
   "outputs": [
    {
     "name": "stdout",
     "output_type": "stream",
     "text": [
      "FaceKeypointModel(\n",
      "  (conv1): Conv2d(3, 32, kernel_size=(5, 5), stride=(1, 1))\n",
      "  (conv2): Conv2d(32, 64, kernel_size=(3, 3), stride=(1, 1))\n",
      "  (conv3): Conv2d(64, 128, kernel_size=(3, 3), stride=(1, 1))\n",
      "  (fc1): Linear(in_features=128, out_features=18, bias=True)\n",
      "  (pool): MaxPool2d(kernel_size=2, stride=2, padding=0, dilation=1, ceil_mode=False)\n",
      "  (dropout): Dropout2d(p=0.2, inplace=False)\n",
      ")\n"
     ]
    }
   ],
   "source": [
    "# データ拡張を行い、numpyで返す\n",
    "train_numpy_dataset = AugmentFaceKeypointDataset(training_samples,f\"{config.DATASET_PATH}/images\",DATA_AUG_FAC)\n",
    "valid_numpy_dataset = AugmentFaceKeypointDataset(valid_samples,f\"{config.DATASET_PATH}/images\",DATA_AUG_FAC)\n",
    "\n",
    "train_tensor_data = FaceKeypointDataset(train_numpy_dataset,config.RESIZE)\n",
    "valid_tensor_data = FaceKeypointDataset(valid_numpy_dataset,config.RESIZE)\n",
    "# print(train_tensor_data[0])\n",
    "\n",
    "train_loader = DataLoader(train_tensor_data,batch_size=BATCH_SIZE,shuffle=True)\n",
    "valid_loader = DataLoader(valid_tensor_data,batch_size=BATCH_SIZE,shuffle=True)\n",
    "\n",
    "module = importlib.import_module(model_name)\n",
    "# モジュール内のクラスを取得\n",
    "FaceKeypointModel = getattr(module, 'FaceKeypointModel')\n",
    "\n",
    "model = FaceKeypointModel().to(config.DEVICE)\n",
    "print(model)\n",
    "optimizer = optim.Adam(model.parameters(),lr=LR)\n",
    "criterion = nn.MSELoss()"
   ]
  },
  {
   "cell_type": "code",
   "execution_count": 16,
   "metadata": {},
   "outputs": [
    {
     "name": "stdout",
     "output_type": "stream",
     "text": [
      "Epoch 1 of 300\n"
     ]
    },
    {
     "name": "stderr",
     "output_type": "stream",
     "text": [
      "14it [00:03,  4.28it/s]                        \n",
      "2it [00:00, 18.31it/s]               \n"
     ]
    },
    {
     "name": "stdout",
     "output_type": "stream",
     "text": [
      "Train Loss: 18744.9591\n",
      "Val Loss: 19514.3174\n",
      "Epoch 2 of 300\n"
     ]
    },
    {
     "name": "stderr",
     "output_type": "stream",
     "text": [
      "14it [00:01, 13.10it/s]                        \n",
      "2it [00:00, 17.59it/s]               \n"
     ]
    },
    {
     "name": "stdout",
     "output_type": "stream",
     "text": [
      "Epoch 3 of 300\n"
     ]
    },
    {
     "name": "stderr",
     "output_type": "stream",
     "text": [
      "14it [00:01, 13.26it/s]                        \n",
      "2it [00:00, 16.75it/s]               \n"
     ]
    },
    {
     "name": "stdout",
     "output_type": "stream",
     "text": [
      "Epoch 4 of 300\n"
     ]
    },
    {
     "name": "stderr",
     "output_type": "stream",
     "text": [
      "14it [00:01, 13.25it/s]                        \n",
      "2it [00:00, 26.35it/s]               \n"
     ]
    },
    {
     "name": "stdout",
     "output_type": "stream",
     "text": [
      "Epoch 5 of 300\n"
     ]
    },
    {
     "name": "stderr",
     "output_type": "stream",
     "text": [
      "14it [00:01, 13.09it/s]                        \n",
      "2it [00:00, 21.73it/s]               \n"
     ]
    },
    {
     "name": "stdout",
     "output_type": "stream",
     "text": [
      "Epoch 6 of 300\n"
     ]
    },
    {
     "name": "stderr",
     "output_type": "stream",
     "text": [
      "14it [00:01, 13.69it/s]                        \n",
      "2it [00:00, 15.83it/s]               \n"
     ]
    },
    {
     "name": "stdout",
     "output_type": "stream",
     "text": [
      "Epoch 7 of 300\n"
     ]
    },
    {
     "name": "stderr",
     "output_type": "stream",
     "text": [
      "14it [00:01, 13.38it/s]                        \n",
      "2it [00:00, 18.61it/s]               \n"
     ]
    },
    {
     "name": "stdout",
     "output_type": "stream",
     "text": [
      "Epoch 8 of 300\n"
     ]
    },
    {
     "name": "stderr",
     "output_type": "stream",
     "text": [
      "14it [00:01, 13.03it/s]                        \n",
      "2it [00:00, 17.75it/s]               \n"
     ]
    },
    {
     "name": "stdout",
     "output_type": "stream",
     "text": [
      "Epoch 9 of 300\n"
     ]
    },
    {
     "name": "stderr",
     "output_type": "stream",
     "text": [
      "14it [00:01, 12.78it/s]                        \n",
      "2it [00:00, 20.87it/s]               \n"
     ]
    },
    {
     "name": "stdout",
     "output_type": "stream",
     "text": [
      "Epoch 10 of 300\n"
     ]
    },
    {
     "name": "stderr",
     "output_type": "stream",
     "text": [
      "14it [00:00, 14.23it/s]                        \n",
      "2it [00:00, 17.21it/s]               \n"
     ]
    },
    {
     "name": "stdout",
     "output_type": "stream",
     "text": [
      "Epoch 11 of 300\n"
     ]
    },
    {
     "name": "stderr",
     "output_type": "stream",
     "text": [
      "14it [00:01, 12.84it/s]                        \n",
      "2it [00:00, 16.81it/s]               \n"
     ]
    },
    {
     "name": "stdout",
     "output_type": "stream",
     "text": [
      "Epoch 12 of 300\n"
     ]
    },
    {
     "name": "stderr",
     "output_type": "stream",
     "text": [
      "14it [00:00, 14.39it/s]                        \n",
      "2it [00:00, 18.78it/s]               \n"
     ]
    },
    {
     "name": "stdout",
     "output_type": "stream",
     "text": [
      "Epoch 13 of 300\n"
     ]
    },
    {
     "name": "stderr",
     "output_type": "stream",
     "text": [
      "14it [00:01, 13.21it/s]                        \n",
      "2it [00:00, 16.70it/s]               \n"
     ]
    },
    {
     "name": "stdout",
     "output_type": "stream",
     "text": [
      "Epoch 14 of 300\n"
     ]
    },
    {
     "name": "stderr",
     "output_type": "stream",
     "text": [
      "14it [00:01, 11.82it/s]                        \n",
      "2it [00:00, 18.24it/s]               \n"
     ]
    },
    {
     "name": "stdout",
     "output_type": "stream",
     "text": [
      "Epoch 15 of 300\n"
     ]
    },
    {
     "name": "stderr",
     "output_type": "stream",
     "text": [
      "14it [00:00, 15.87it/s]                        \n",
      "2it [00:00, 18.13it/s]               \n"
     ]
    },
    {
     "name": "stdout",
     "output_type": "stream",
     "text": [
      "Epoch 16 of 300\n"
     ]
    },
    {
     "name": "stderr",
     "output_type": "stream",
     "text": [
      "14it [00:01, 13.30it/s]                        \n",
      "2it [00:00, 17.09it/s]               \n"
     ]
    },
    {
     "name": "stdout",
     "output_type": "stream",
     "text": [
      "Epoch 17 of 300\n"
     ]
    },
    {
     "name": "stderr",
     "output_type": "stream",
     "text": [
      "14it [00:01, 13.15it/s]                        \n",
      "2it [00:00, 17.81it/s]               \n"
     ]
    },
    {
     "name": "stdout",
     "output_type": "stream",
     "text": [
      "Epoch 18 of 300\n"
     ]
    },
    {
     "name": "stderr",
     "output_type": "stream",
     "text": [
      "14it [00:01, 13.23it/s]                        \n",
      "2it [00:00, 19.59it/s]               \n"
     ]
    },
    {
     "name": "stdout",
     "output_type": "stream",
     "text": [
      "Epoch 19 of 300\n"
     ]
    },
    {
     "name": "stderr",
     "output_type": "stream",
     "text": [
      "14it [00:01, 13.96it/s]                        \n",
      "2it [00:00, 14.40it/s]                       \n"
     ]
    },
    {
     "name": "stdout",
     "output_type": "stream",
     "text": [
      "Epoch 20 of 300\n"
     ]
    },
    {
     "name": "stderr",
     "output_type": "stream",
     "text": [
      "14it [00:01, 12.62it/s]                        \n",
      "2it [00:00, 19.50it/s]               \n"
     ]
    },
    {
     "name": "stdout",
     "output_type": "stream",
     "text": [
      "Epoch 21 of 300\n"
     ]
    },
    {
     "name": "stderr",
     "output_type": "stream",
     "text": [
      "14it [00:01, 12.18it/s]                        \n",
      "2it [00:00, 21.40it/s]               \n"
     ]
    },
    {
     "name": "stdout",
     "output_type": "stream",
     "text": [
      "Epoch 22 of 300\n"
     ]
    },
    {
     "name": "stderr",
     "output_type": "stream",
     "text": [
      "14it [00:01, 12.45it/s]                        \n",
      "2it [00:00, 22.17it/s]               \n"
     ]
    },
    {
     "name": "stdout",
     "output_type": "stream",
     "text": [
      "Epoch 23 of 300\n"
     ]
    },
    {
     "name": "stderr",
     "output_type": "stream",
     "text": [
      "14it [00:01, 13.37it/s]                        \n",
      "2it [00:00, 17.71it/s]               \n"
     ]
    },
    {
     "name": "stdout",
     "output_type": "stream",
     "text": [
      "Epoch 24 of 300\n"
     ]
    },
    {
     "name": "stderr",
     "output_type": "stream",
     "text": [
      "14it [00:01, 13.36it/s]                        \n",
      "2it [00:00, 15.84it/s]               \n"
     ]
    },
    {
     "name": "stdout",
     "output_type": "stream",
     "text": [
      "Epoch 25 of 300\n"
     ]
    },
    {
     "name": "stderr",
     "output_type": "stream",
     "text": [
      "14it [00:01, 13.54it/s]                        \n",
      "2it [00:00, 18.73it/s]               \n"
     ]
    },
    {
     "name": "stdout",
     "output_type": "stream",
     "text": [
      "Epoch 26 of 300\n"
     ]
    },
    {
     "name": "stderr",
     "output_type": "stream",
     "text": [
      "14it [00:01, 13.03it/s]                        \n",
      "2it [00:00, 16.77it/s]               \n"
     ]
    },
    {
     "name": "stdout",
     "output_type": "stream",
     "text": [
      "Train Loss: 1554.3596\n",
      "Val Loss: 1691.4326\n",
      "Epoch 27 of 300\n"
     ]
    },
    {
     "name": "stderr",
     "output_type": "stream",
     "text": [
      "14it [00:01, 12.83it/s]                        \n",
      "2it [00:00, 21.79it/s]               \n"
     ]
    },
    {
     "name": "stdout",
     "output_type": "stream",
     "text": [
      "Epoch 28 of 300\n"
     ]
    },
    {
     "name": "stderr",
     "output_type": "stream",
     "text": [
      "14it [00:01, 13.51it/s]                        \n",
      "2it [00:00, 17.31it/s]               \n"
     ]
    },
    {
     "name": "stdout",
     "output_type": "stream",
     "text": [
      "Epoch 29 of 300\n"
     ]
    },
    {
     "name": "stderr",
     "output_type": "stream",
     "text": [
      "14it [00:01, 12.76it/s]                        \n",
      "2it [00:00, 17.13it/s]               \n"
     ]
    },
    {
     "name": "stdout",
     "output_type": "stream",
     "text": [
      "Epoch 30 of 300\n"
     ]
    },
    {
     "name": "stderr",
     "output_type": "stream",
     "text": [
      "14it [00:01, 12.72it/s]                        \n",
      "2it [00:00, 24.27it/s]               \n"
     ]
    },
    {
     "name": "stdout",
     "output_type": "stream",
     "text": [
      "Epoch 31 of 300\n"
     ]
    },
    {
     "name": "stderr",
     "output_type": "stream",
     "text": [
      "14it [00:01, 12.78it/s]                        \n",
      "2it [00:00, 18.92it/s]               \n"
     ]
    },
    {
     "name": "stdout",
     "output_type": "stream",
     "text": [
      "Epoch 32 of 300\n"
     ]
    },
    {
     "name": "stderr",
     "output_type": "stream",
     "text": [
      "14it [00:01, 12.82it/s]                        \n",
      "2it [00:00, 18.68it/s]               \n"
     ]
    },
    {
     "name": "stdout",
     "output_type": "stream",
     "text": [
      "Epoch 33 of 300\n"
     ]
    },
    {
     "name": "stderr",
     "output_type": "stream",
     "text": [
      "14it [00:01, 13.24it/s]                        \n",
      "2it [00:00, 19.04it/s]               \n"
     ]
    },
    {
     "name": "stdout",
     "output_type": "stream",
     "text": [
      "Epoch 34 of 300\n"
     ]
    },
    {
     "name": "stderr",
     "output_type": "stream",
     "text": [
      "14it [00:01, 12.17it/s]                        \n",
      "2it [00:00, 21.46it/s]               \n"
     ]
    },
    {
     "name": "stdout",
     "output_type": "stream",
     "text": [
      "Epoch 35 of 300\n"
     ]
    },
    {
     "name": "stderr",
     "output_type": "stream",
     "text": [
      "14it [00:01, 12.28it/s]                        \n",
      "2it [00:00, 28.17it/s]               \n"
     ]
    },
    {
     "name": "stdout",
     "output_type": "stream",
     "text": [
      "Epoch 36 of 300\n"
     ]
    },
    {
     "name": "stderr",
     "output_type": "stream",
     "text": [
      "14it [00:01, 12.93it/s]                        \n",
      "2it [00:00, 17.90it/s]               \n"
     ]
    },
    {
     "name": "stdout",
     "output_type": "stream",
     "text": [
      "Epoch 37 of 300\n"
     ]
    },
    {
     "name": "stderr",
     "output_type": "stream",
     "text": [
      "14it [00:01, 12.65it/s]                        \n",
      "2it [00:00, 15.78it/s]               \n"
     ]
    },
    {
     "name": "stdout",
     "output_type": "stream",
     "text": [
      "Epoch 38 of 300\n"
     ]
    },
    {
     "name": "stderr",
     "output_type": "stream",
     "text": [
      "14it [00:01, 12.57it/s]                        \n",
      "2it [00:00, 14.95it/s]               \n"
     ]
    },
    {
     "name": "stdout",
     "output_type": "stream",
     "text": [
      "Epoch 39 of 300\n"
     ]
    },
    {
     "name": "stderr",
     "output_type": "stream",
     "text": [
      "14it [00:00, 14.36it/s]                        \n",
      "2it [00:00, 19.05it/s]               \n"
     ]
    },
    {
     "name": "stdout",
     "output_type": "stream",
     "text": [
      "Epoch 40 of 300\n"
     ]
    },
    {
     "name": "stderr",
     "output_type": "stream",
     "text": [
      "14it [00:01, 12.35it/s]                        \n",
      "2it [00:00, 19.37it/s]               \n"
     ]
    },
    {
     "name": "stdout",
     "output_type": "stream",
     "text": [
      "Epoch 41 of 300\n"
     ]
    },
    {
     "name": "stderr",
     "output_type": "stream",
     "text": [
      "14it [00:01, 13.14it/s]                        \n",
      "2it [00:00, 18.95it/s]               \n"
     ]
    },
    {
     "name": "stdout",
     "output_type": "stream",
     "text": [
      "Epoch 42 of 300\n"
     ]
    },
    {
     "name": "stderr",
     "output_type": "stream",
     "text": [
      "14it [00:01, 12.84it/s]                        \n",
      "2it [00:00, 18.86it/s]               \n"
     ]
    },
    {
     "name": "stdout",
     "output_type": "stream",
     "text": [
      "Epoch 43 of 300\n"
     ]
    },
    {
     "name": "stderr",
     "output_type": "stream",
     "text": [
      "14it [00:01, 12.83it/s]                        \n",
      "2it [00:00, 19.73it/s]               \n"
     ]
    },
    {
     "name": "stdout",
     "output_type": "stream",
     "text": [
      "Epoch 44 of 300\n"
     ]
    },
    {
     "name": "stderr",
     "output_type": "stream",
     "text": [
      "14it [00:01, 12.79it/s]                        \n",
      "2it [00:00, 16.19it/s]               \n"
     ]
    },
    {
     "name": "stdout",
     "output_type": "stream",
     "text": [
      "Epoch 45 of 300\n"
     ]
    },
    {
     "name": "stderr",
     "output_type": "stream",
     "text": [
      "14it [00:01, 12.81it/s]                        \n",
      "2it [00:00, 18.48it/s]               \n"
     ]
    },
    {
     "name": "stdout",
     "output_type": "stream",
     "text": [
      "Epoch 46 of 300\n"
     ]
    },
    {
     "name": "stderr",
     "output_type": "stream",
     "text": [
      "14it [00:01, 13.85it/s]                        \n",
      "2it [00:00, 23.00it/s]               \n"
     ]
    },
    {
     "name": "stdout",
     "output_type": "stream",
     "text": [
      "Epoch 47 of 300\n"
     ]
    },
    {
     "name": "stderr",
     "output_type": "stream",
     "text": [
      "14it [00:01, 12.69it/s]                        \n",
      "2it [00:00, 20.02it/s]               \n"
     ]
    },
    {
     "name": "stdout",
     "output_type": "stream",
     "text": [
      "Epoch 48 of 300\n"
     ]
    },
    {
     "name": "stderr",
     "output_type": "stream",
     "text": [
      "14it [00:01, 13.15it/s]                        \n",
      "2it [00:00, 18.08it/s]               \n"
     ]
    },
    {
     "name": "stdout",
     "output_type": "stream",
     "text": [
      "Epoch 49 of 300\n"
     ]
    },
    {
     "name": "stderr",
     "output_type": "stream",
     "text": [
      "14it [00:01, 12.75it/s]                        \n",
      "2it [00:00, 14.85it/s]               \n"
     ]
    },
    {
     "name": "stdout",
     "output_type": "stream",
     "text": [
      "Epoch 50 of 300\n"
     ]
    },
    {
     "name": "stderr",
     "output_type": "stream",
     "text": [
      "14it [00:01, 13.54it/s]                        \n",
      "2it [00:00, 16.03it/s]               \n"
     ]
    },
    {
     "name": "stdout",
     "output_type": "stream",
     "text": [
      "Epoch 51 of 300\n"
     ]
    },
    {
     "name": "stderr",
     "output_type": "stream",
     "text": [
      "14it [00:01, 12.32it/s]                        \n",
      "2it [00:00, 18.26it/s]               \n"
     ]
    },
    {
     "name": "stdout",
     "output_type": "stream",
     "text": [
      "Train Loss: 1529.5986\n",
      "Val Loss: 1624.9383\n",
      "Epoch 52 of 300\n"
     ]
    },
    {
     "name": "stderr",
     "output_type": "stream",
     "text": [
      "14it [00:00, 14.22it/s]                        \n",
      "2it [00:00, 21.86it/s]               \n"
     ]
    },
    {
     "name": "stdout",
     "output_type": "stream",
     "text": [
      "Epoch 53 of 300\n"
     ]
    },
    {
     "name": "stderr",
     "output_type": "stream",
     "text": [
      "14it [00:01, 12.42it/s]                        \n",
      "2it [00:00, 22.95it/s]               \n"
     ]
    },
    {
     "name": "stdout",
     "output_type": "stream",
     "text": [
      "Epoch 54 of 300\n"
     ]
    },
    {
     "name": "stderr",
     "output_type": "stream",
     "text": [
      "14it [00:01, 13.08it/s]                        \n",
      "2it [00:00, 20.00it/s]               \n"
     ]
    },
    {
     "name": "stdout",
     "output_type": "stream",
     "text": [
      "Epoch 55 of 300\n"
     ]
    },
    {
     "name": "stderr",
     "output_type": "stream",
     "text": [
      "14it [00:01, 13.30it/s]                        \n",
      "2it [00:00, 20.29it/s]               \n"
     ]
    },
    {
     "name": "stdout",
     "output_type": "stream",
     "text": [
      "Epoch 56 of 300\n"
     ]
    },
    {
     "name": "stderr",
     "output_type": "stream",
     "text": [
      "14it [00:00, 14.18it/s]                        \n",
      "2it [00:00, 19.74it/s]               \n"
     ]
    },
    {
     "name": "stdout",
     "output_type": "stream",
     "text": [
      "Epoch 57 of 300\n"
     ]
    },
    {
     "name": "stderr",
     "output_type": "stream",
     "text": [
      "14it [00:01, 12.80it/s]                        \n",
      "2it [00:00, 14.63it/s]               \n"
     ]
    },
    {
     "name": "stdout",
     "output_type": "stream",
     "text": [
      "Epoch 58 of 300\n"
     ]
    },
    {
     "name": "stderr",
     "output_type": "stream",
     "text": [
      "14it [00:01, 13.85it/s]                        \n",
      "2it [00:00, 15.05it/s]                       \n"
     ]
    },
    {
     "name": "stdout",
     "output_type": "stream",
     "text": [
      "Epoch 59 of 300\n"
     ]
    },
    {
     "name": "stderr",
     "output_type": "stream",
     "text": [
      "14it [00:01, 12.40it/s]                        \n",
      "2it [00:00, 16.64it/s]               \n"
     ]
    },
    {
     "name": "stdout",
     "output_type": "stream",
     "text": [
      "Epoch 60 of 300\n"
     ]
    },
    {
     "name": "stderr",
     "output_type": "stream",
     "text": [
      "14it [00:01, 13.22it/s]                        \n",
      "2it [00:00, 17.55it/s]               \n"
     ]
    },
    {
     "name": "stdout",
     "output_type": "stream",
     "text": [
      "Epoch 61 of 300\n"
     ]
    },
    {
     "name": "stderr",
     "output_type": "stream",
     "text": [
      "14it [00:00, 14.13it/s]                        \n",
      "2it [00:00, 17.68it/s]               \n"
     ]
    },
    {
     "name": "stdout",
     "output_type": "stream",
     "text": [
      "Epoch 62 of 300\n"
     ]
    },
    {
     "name": "stderr",
     "output_type": "stream",
     "text": [
      "14it [00:01, 13.24it/s]                        \n",
      "2it [00:00, 20.27it/s]               \n"
     ]
    },
    {
     "name": "stdout",
     "output_type": "stream",
     "text": [
      "Epoch 63 of 300\n"
     ]
    },
    {
     "name": "stderr",
     "output_type": "stream",
     "text": [
      "14it [00:01, 13.35it/s]                        \n",
      "2it [00:00, 16.63it/s]               \n"
     ]
    },
    {
     "name": "stdout",
     "output_type": "stream",
     "text": [
      "Epoch 64 of 300\n"
     ]
    },
    {
     "name": "stderr",
     "output_type": "stream",
     "text": [
      "14it [00:01, 12.78it/s]                        \n",
      "2it [00:00, 12.82it/s]                       \n"
     ]
    },
    {
     "name": "stdout",
     "output_type": "stream",
     "text": [
      "Epoch 65 of 300\n"
     ]
    },
    {
     "name": "stderr",
     "output_type": "stream",
     "text": [
      "14it [00:01, 12.74it/s]                        \n",
      "2it [00:00, 16.19it/s]               \n"
     ]
    },
    {
     "name": "stdout",
     "output_type": "stream",
     "text": [
      "Epoch 66 of 300\n"
     ]
    },
    {
     "name": "stderr",
     "output_type": "stream",
     "text": [
      "14it [00:01, 13.35it/s]                        \n",
      "2it [00:00, 15.18it/s]               \n"
     ]
    },
    {
     "name": "stdout",
     "output_type": "stream",
     "text": [
      "Epoch 67 of 300\n"
     ]
    },
    {
     "name": "stderr",
     "output_type": "stream",
     "text": [
      "14it [00:01, 13.16it/s]                        \n",
      "2it [00:00, 17.73it/s]               \n"
     ]
    },
    {
     "name": "stdout",
     "output_type": "stream",
     "text": [
      "Epoch 68 of 300\n"
     ]
    },
    {
     "name": "stderr",
     "output_type": "stream",
     "text": [
      "14it [00:01, 12.80it/s]                        \n",
      "2it [00:00, 18.96it/s]               \n"
     ]
    },
    {
     "name": "stdout",
     "output_type": "stream",
     "text": [
      "Epoch 69 of 300\n"
     ]
    },
    {
     "name": "stderr",
     "output_type": "stream",
     "text": [
      "14it [00:01, 12.88it/s]                        \n",
      "2it [00:00, 17.78it/s]               \n"
     ]
    },
    {
     "name": "stdout",
     "output_type": "stream",
     "text": [
      "Epoch 70 of 300\n"
     ]
    },
    {
     "name": "stderr",
     "output_type": "stream",
     "text": [
      "14it [00:01, 12.40it/s]                        \n",
      "2it [00:00, 16.61it/s]               \n"
     ]
    },
    {
     "name": "stdout",
     "output_type": "stream",
     "text": [
      "Epoch 71 of 300\n"
     ]
    },
    {
     "name": "stderr",
     "output_type": "stream",
     "text": [
      "14it [00:00, 14.32it/s]                        \n",
      "2it [00:00, 19.46it/s]               \n"
     ]
    },
    {
     "name": "stdout",
     "output_type": "stream",
     "text": [
      "Epoch 72 of 300\n"
     ]
    },
    {
     "name": "stderr",
     "output_type": "stream",
     "text": [
      "14it [00:01, 12.28it/s]                        \n",
      "2it [00:00, 15.47it/s]               \n"
     ]
    },
    {
     "name": "stdout",
     "output_type": "stream",
     "text": [
      "Epoch 73 of 300\n"
     ]
    },
    {
     "name": "stderr",
     "output_type": "stream",
     "text": [
      "14it [00:01, 12.69it/s]                        \n",
      "2it [00:00, 17.66it/s]               \n"
     ]
    },
    {
     "name": "stdout",
     "output_type": "stream",
     "text": [
      "Epoch 74 of 300\n"
     ]
    },
    {
     "name": "stderr",
     "output_type": "stream",
     "text": [
      "14it [00:01, 12.56it/s]                        \n",
      "2it [00:00, 19.99it/s]               \n"
     ]
    },
    {
     "name": "stdout",
     "output_type": "stream",
     "text": [
      "Epoch 75 of 300\n"
     ]
    },
    {
     "name": "stderr",
     "output_type": "stream",
     "text": [
      "14it [00:01, 12.33it/s]                        \n",
      "2it [00:00, 18.58it/s]               \n"
     ]
    },
    {
     "name": "stdout",
     "output_type": "stream",
     "text": [
      "Epoch 76 of 300\n"
     ]
    },
    {
     "name": "stderr",
     "output_type": "stream",
     "text": [
      "14it [00:01, 12.30it/s]                        \n",
      "2it [00:00, 16.84it/s]               \n"
     ]
    },
    {
     "name": "stdout",
     "output_type": "stream",
     "text": [
      "Train Loss: 1488.9041\n",
      "Val Loss: 1570.0237\n",
      "Epoch 77 of 300\n"
     ]
    },
    {
     "name": "stderr",
     "output_type": "stream",
     "text": [
      "14it [00:01, 12.17it/s]                        \n",
      "2it [00:00, 20.59it/s]               \n"
     ]
    },
    {
     "name": "stdout",
     "output_type": "stream",
     "text": [
      "Epoch 78 of 300\n"
     ]
    },
    {
     "name": "stderr",
     "output_type": "stream",
     "text": [
      "14it [00:01, 12.80it/s]                        \n",
      "2it [00:00, 20.28it/s]               \n"
     ]
    },
    {
     "name": "stdout",
     "output_type": "stream",
     "text": [
      "Epoch 79 of 300\n"
     ]
    },
    {
     "name": "stderr",
     "output_type": "stream",
     "text": [
      "14it [00:01, 13.48it/s]                        \n",
      "2it [00:00, 20.72it/s]               \n"
     ]
    },
    {
     "name": "stdout",
     "output_type": "stream",
     "text": [
      "Epoch 80 of 300\n"
     ]
    },
    {
     "name": "stderr",
     "output_type": "stream",
     "text": [
      "14it [00:01, 11.58it/s]                        \n",
      "2it [00:00, 26.85it/s]               \n"
     ]
    },
    {
     "name": "stdout",
     "output_type": "stream",
     "text": [
      "Epoch 81 of 300\n"
     ]
    },
    {
     "name": "stderr",
     "output_type": "stream",
     "text": [
      "14it [00:01, 13.11it/s]                        \n",
      "2it [00:00, 12.59it/s]                       \n"
     ]
    },
    {
     "name": "stdout",
     "output_type": "stream",
     "text": [
      "Epoch 82 of 300\n"
     ]
    },
    {
     "name": "stderr",
     "output_type": "stream",
     "text": [
      "14it [00:01, 13.12it/s]                        \n",
      "2it [00:00, 15.51it/s]               \n"
     ]
    },
    {
     "name": "stdout",
     "output_type": "stream",
     "text": [
      "Epoch 83 of 300\n"
     ]
    },
    {
     "name": "stderr",
     "output_type": "stream",
     "text": [
      "14it [00:01, 12.61it/s]                        \n",
      "2it [00:00, 15.09it/s]               \n"
     ]
    },
    {
     "name": "stdout",
     "output_type": "stream",
     "text": [
      "Epoch 84 of 300\n"
     ]
    },
    {
     "name": "stderr",
     "output_type": "stream",
     "text": [
      "14it [00:01, 13.24it/s]                        \n",
      "2it [00:00, 21.51it/s]               \n"
     ]
    },
    {
     "name": "stdout",
     "output_type": "stream",
     "text": [
      "Epoch 85 of 300\n"
     ]
    },
    {
     "name": "stderr",
     "output_type": "stream",
     "text": [
      "14it [00:01, 11.48it/s]                        \n",
      "2it [00:00, 15.47it/s]               \n"
     ]
    },
    {
     "name": "stdout",
     "output_type": "stream",
     "text": [
      "Epoch 86 of 300\n"
     ]
    },
    {
     "name": "stderr",
     "output_type": "stream",
     "text": [
      "14it [00:01, 12.70it/s]                        \n",
      "2it [00:00, 16.35it/s]               \n"
     ]
    },
    {
     "name": "stdout",
     "output_type": "stream",
     "text": [
      "Epoch 87 of 300\n"
     ]
    },
    {
     "name": "stderr",
     "output_type": "stream",
     "text": [
      "14it [00:01, 12.83it/s]                        \n",
      "2it [00:00, 15.07it/s]                       \n"
     ]
    },
    {
     "name": "stdout",
     "output_type": "stream",
     "text": [
      "Epoch 88 of 300\n"
     ]
    },
    {
     "name": "stderr",
     "output_type": "stream",
     "text": [
      "14it [00:01, 13.44it/s]                        \n",
      "2it [00:00, 15.15it/s]               \n"
     ]
    },
    {
     "name": "stdout",
     "output_type": "stream",
     "text": [
      "Epoch 89 of 300\n"
     ]
    },
    {
     "name": "stderr",
     "output_type": "stream",
     "text": [
      "14it [00:01, 13.04it/s]                        \n",
      "2it [00:00, 18.10it/s]               \n"
     ]
    },
    {
     "name": "stdout",
     "output_type": "stream",
     "text": [
      "Epoch 90 of 300\n"
     ]
    },
    {
     "name": "stderr",
     "output_type": "stream",
     "text": [
      "14it [00:01, 12.80it/s]                        \n",
      "2it [00:00, 17.19it/s]               \n"
     ]
    },
    {
     "name": "stdout",
     "output_type": "stream",
     "text": [
      "Epoch 91 of 300\n"
     ]
    },
    {
     "name": "stderr",
     "output_type": "stream",
     "text": [
      "14it [00:01, 11.55it/s]                        \n",
      "2it [00:00, 14.47it/s]               \n"
     ]
    },
    {
     "name": "stdout",
     "output_type": "stream",
     "text": [
      "Epoch 92 of 300\n"
     ]
    },
    {
     "name": "stderr",
     "output_type": "stream",
     "text": [
      "14it [00:01, 12.06it/s]                        \n",
      "2it [00:00, 18.14it/s]               \n"
     ]
    },
    {
     "name": "stdout",
     "output_type": "stream",
     "text": [
      "Epoch 93 of 300\n"
     ]
    },
    {
     "name": "stderr",
     "output_type": "stream",
     "text": [
      "14it [00:01, 13.20it/s]                        \n",
      "2it [00:00, 19.19it/s]               \n"
     ]
    },
    {
     "name": "stdout",
     "output_type": "stream",
     "text": [
      "Epoch 94 of 300\n"
     ]
    },
    {
     "name": "stderr",
     "output_type": "stream",
     "text": [
      "14it [00:01, 12.96it/s]                        \n",
      "2it [00:00, 21.61it/s]               \n"
     ]
    },
    {
     "name": "stdout",
     "output_type": "stream",
     "text": [
      "Epoch 95 of 300\n"
     ]
    },
    {
     "name": "stderr",
     "output_type": "stream",
     "text": [
      "14it [00:01, 13.79it/s]                        \n",
      "2it [00:00, 24.57it/s]               \n"
     ]
    },
    {
     "name": "stdout",
     "output_type": "stream",
     "text": [
      "Epoch 96 of 300\n"
     ]
    },
    {
     "name": "stderr",
     "output_type": "stream",
     "text": [
      "14it [00:01, 12.81it/s]                        \n",
      "2it [00:00, 14.87it/s]               \n"
     ]
    },
    {
     "name": "stdout",
     "output_type": "stream",
     "text": [
      "Epoch 97 of 300\n"
     ]
    },
    {
     "name": "stderr",
     "output_type": "stream",
     "text": [
      "14it [00:01, 13.42it/s]                        \n",
      "2it [00:00, 18.62it/s]               \n"
     ]
    },
    {
     "name": "stdout",
     "output_type": "stream",
     "text": [
      "Epoch 98 of 300\n"
     ]
    },
    {
     "name": "stderr",
     "output_type": "stream",
     "text": [
      "14it [00:01, 13.34it/s]                        \n",
      "2it [00:00, 16.72it/s]               \n"
     ]
    },
    {
     "name": "stdout",
     "output_type": "stream",
     "text": [
      "Epoch 99 of 300\n"
     ]
    },
    {
     "name": "stderr",
     "output_type": "stream",
     "text": [
      "14it [00:01, 12.64it/s]                        \n",
      "2it [00:00, 16.65it/s]               \n"
     ]
    },
    {
     "name": "stdout",
     "output_type": "stream",
     "text": [
      "Epoch 100 of 300\n"
     ]
    },
    {
     "name": "stderr",
     "output_type": "stream",
     "text": [
      "14it [00:01, 13.60it/s]                        \n",
      "2it [00:00, 18.02it/s]               \n"
     ]
    },
    {
     "name": "stdout",
     "output_type": "stream",
     "text": [
      "Epoch 101 of 300\n"
     ]
    },
    {
     "name": "stderr",
     "output_type": "stream",
     "text": [
      "14it [00:01, 12.89it/s]                        \n",
      "2it [00:00, 15.84it/s]               \n"
     ]
    },
    {
     "name": "stdout",
     "output_type": "stream",
     "text": [
      "Train Loss: 1442.6033\n",
      "Val Loss: 1481.2805\n",
      "Epoch 102 of 300\n"
     ]
    },
    {
     "name": "stderr",
     "output_type": "stream",
     "text": [
      "14it [00:01, 12.72it/s]                        \n",
      "2it [00:00, 19.10it/s]               \n"
     ]
    },
    {
     "name": "stdout",
     "output_type": "stream",
     "text": [
      "Epoch 103 of 300\n"
     ]
    },
    {
     "name": "stderr",
     "output_type": "stream",
     "text": [
      "14it [00:01, 13.75it/s]                        \n",
      "2it [00:00, 15.73it/s]               \n"
     ]
    },
    {
     "name": "stdout",
     "output_type": "stream",
     "text": [
      "Epoch 104 of 300\n"
     ]
    },
    {
     "name": "stderr",
     "output_type": "stream",
     "text": [
      "14it [00:01, 13.82it/s]                        \n",
      "2it [00:00, 16.77it/s]               \n"
     ]
    },
    {
     "name": "stdout",
     "output_type": "stream",
     "text": [
      "Epoch 105 of 300\n"
     ]
    },
    {
     "name": "stderr",
     "output_type": "stream",
     "text": [
      "14it [00:01, 12.71it/s]                        \n",
      "2it [00:00, 21.64it/s]               \n"
     ]
    },
    {
     "name": "stdout",
     "output_type": "stream",
     "text": [
      "Epoch 106 of 300\n"
     ]
    },
    {
     "name": "stderr",
     "output_type": "stream",
     "text": [
      "14it [00:01, 12.79it/s]                        \n",
      "2it [00:00, 17.88it/s]               \n"
     ]
    },
    {
     "name": "stdout",
     "output_type": "stream",
     "text": [
      "Epoch 107 of 300\n"
     ]
    },
    {
     "name": "stderr",
     "output_type": "stream",
     "text": [
      "14it [00:01, 13.39it/s]                        \n",
      "2it [00:00, 17.28it/s]               \n"
     ]
    },
    {
     "name": "stdout",
     "output_type": "stream",
     "text": [
      "Epoch 108 of 300\n"
     ]
    },
    {
     "name": "stderr",
     "output_type": "stream",
     "text": [
      "14it [00:01, 12.84it/s]                        \n",
      "2it [00:00, 17.62it/s]               \n"
     ]
    },
    {
     "name": "stdout",
     "output_type": "stream",
     "text": [
      "Epoch 109 of 300\n"
     ]
    },
    {
     "name": "stderr",
     "output_type": "stream",
     "text": [
      "14it [00:01, 12.85it/s]                        \n",
      "2it [00:00, 15.31it/s]               \n"
     ]
    },
    {
     "name": "stdout",
     "output_type": "stream",
     "text": [
      "Epoch 110 of 300\n"
     ]
    },
    {
     "name": "stderr",
     "output_type": "stream",
     "text": [
      "14it [00:01, 12.19it/s]                        \n",
      "2it [00:00, 18.35it/s]               \n"
     ]
    },
    {
     "name": "stdout",
     "output_type": "stream",
     "text": [
      "Epoch 111 of 300\n"
     ]
    },
    {
     "name": "stderr",
     "output_type": "stream",
     "text": [
      "14it [00:01, 12.24it/s]                        \n",
      "2it [00:00, 14.88it/s]                       \n"
     ]
    },
    {
     "name": "stdout",
     "output_type": "stream",
     "text": [
      "Epoch 112 of 300\n"
     ]
    },
    {
     "name": "stderr",
     "output_type": "stream",
     "text": [
      "14it [00:01, 13.53it/s]                        \n",
      "2it [00:00, 19.00it/s]               \n"
     ]
    },
    {
     "name": "stdout",
     "output_type": "stream",
     "text": [
      "Epoch 113 of 300\n"
     ]
    },
    {
     "name": "stderr",
     "output_type": "stream",
     "text": [
      "14it [00:01, 13.11it/s]                        \n",
      "2it [00:00, 17.10it/s]               \n"
     ]
    },
    {
     "name": "stdout",
     "output_type": "stream",
     "text": [
      "Epoch 114 of 300\n"
     ]
    },
    {
     "name": "stderr",
     "output_type": "stream",
     "text": [
      "14it [00:01, 13.34it/s]                        \n",
      "2it [00:00, 15.74it/s]               \n"
     ]
    },
    {
     "name": "stdout",
     "output_type": "stream",
     "text": [
      "Epoch 115 of 300\n"
     ]
    },
    {
     "name": "stderr",
     "output_type": "stream",
     "text": [
      "14it [00:01, 13.42it/s]                        \n",
      "2it [00:00, 18.15it/s]               \n"
     ]
    },
    {
     "name": "stdout",
     "output_type": "stream",
     "text": [
      "Epoch 116 of 300\n"
     ]
    },
    {
     "name": "stderr",
     "output_type": "stream",
     "text": [
      "14it [00:00, 14.02it/s]                        \n",
      "2it [00:00, 16.70it/s]               \n"
     ]
    },
    {
     "name": "stdout",
     "output_type": "stream",
     "text": [
      "Epoch 117 of 300\n"
     ]
    },
    {
     "name": "stderr",
     "output_type": "stream",
     "text": [
      "14it [00:01, 13.36it/s]                        \n",
      "2it [00:00, 17.65it/s]               \n"
     ]
    },
    {
     "name": "stdout",
     "output_type": "stream",
     "text": [
      "Epoch 118 of 300\n"
     ]
    },
    {
     "name": "stderr",
     "output_type": "stream",
     "text": [
      "14it [00:01, 12.72it/s]                        \n",
      "2it [00:00, 15.75it/s]               \n"
     ]
    },
    {
     "name": "stdout",
     "output_type": "stream",
     "text": [
      "Epoch 119 of 300\n"
     ]
    },
    {
     "name": "stderr",
     "output_type": "stream",
     "text": [
      "14it [00:01, 12.66it/s]                        \n",
      "2it [00:00, 16.90it/s]               \n"
     ]
    },
    {
     "name": "stdout",
     "output_type": "stream",
     "text": [
      "Epoch 120 of 300\n"
     ]
    },
    {
     "name": "stderr",
     "output_type": "stream",
     "text": [
      "14it [00:01, 13.54it/s]                        \n",
      "2it [00:00, 14.05it/s]                       \n"
     ]
    },
    {
     "name": "stdout",
     "output_type": "stream",
     "text": [
      "Epoch 121 of 300\n"
     ]
    },
    {
     "name": "stderr",
     "output_type": "stream",
     "text": [
      "14it [00:01, 12.28it/s]                        \n",
      "2it [00:00, 14.65it/s]               \n"
     ]
    },
    {
     "name": "stdout",
     "output_type": "stream",
     "text": [
      "Epoch 122 of 300\n"
     ]
    },
    {
     "name": "stderr",
     "output_type": "stream",
     "text": [
      "14it [00:01, 13.22it/s]                        \n",
      "2it [00:00, 18.65it/s]               \n"
     ]
    },
    {
     "name": "stdout",
     "output_type": "stream",
     "text": [
      "Epoch 123 of 300\n"
     ]
    },
    {
     "name": "stderr",
     "output_type": "stream",
     "text": [
      "14it [00:01, 12.56it/s]                        \n",
      "2it [00:00, 17.37it/s]               \n"
     ]
    },
    {
     "name": "stdout",
     "output_type": "stream",
     "text": [
      "Epoch 124 of 300\n"
     ]
    },
    {
     "name": "stderr",
     "output_type": "stream",
     "text": [
      "14it [00:01, 13.12it/s]                        \n",
      "2it [00:00, 19.01it/s]               \n"
     ]
    },
    {
     "name": "stdout",
     "output_type": "stream",
     "text": [
      "Epoch 125 of 300\n"
     ]
    },
    {
     "name": "stderr",
     "output_type": "stream",
     "text": [
      "14it [00:01, 13.47it/s]                        \n",
      "2it [00:00, 17.06it/s]               \n"
     ]
    },
    {
     "name": "stdout",
     "output_type": "stream",
     "text": [
      "Epoch 126 of 300\n"
     ]
    },
    {
     "name": "stderr",
     "output_type": "stream",
     "text": [
      "14it [00:01, 14.00it/s]                        \n",
      "2it [00:00, 17.15it/s]               \n"
     ]
    },
    {
     "name": "stdout",
     "output_type": "stream",
     "text": [
      "Train Loss: 1382.7956\n",
      "Val Loss: 1392.0677\n",
      "Epoch 127 of 300\n"
     ]
    },
    {
     "name": "stderr",
     "output_type": "stream",
     "text": [
      "14it [00:01, 13.32it/s]                        \n",
      "2it [00:00, 19.68it/s]               \n"
     ]
    },
    {
     "name": "stdout",
     "output_type": "stream",
     "text": [
      "Epoch 128 of 300\n"
     ]
    },
    {
     "name": "stderr",
     "output_type": "stream",
     "text": [
      "14it [00:01, 12.38it/s]                        \n",
      "2it [00:00, 16.60it/s]               \n"
     ]
    },
    {
     "name": "stdout",
     "output_type": "stream",
     "text": [
      "Epoch 129 of 300\n"
     ]
    },
    {
     "name": "stderr",
     "output_type": "stream",
     "text": [
      "14it [00:01, 13.19it/s]                        \n",
      "2it [00:00, 18.02it/s]               \n"
     ]
    },
    {
     "name": "stdout",
     "output_type": "stream",
     "text": [
      "Epoch 130 of 300\n"
     ]
    },
    {
     "name": "stderr",
     "output_type": "stream",
     "text": [
      "14it [00:01, 12.68it/s]                        \n",
      "2it [00:00, 16.58it/s]               \n"
     ]
    },
    {
     "name": "stdout",
     "output_type": "stream",
     "text": [
      "Epoch 131 of 300\n"
     ]
    },
    {
     "name": "stderr",
     "output_type": "stream",
     "text": [
      "14it [00:01, 13.88it/s]                        \n",
      "2it [00:00, 22.33it/s]               \n"
     ]
    },
    {
     "name": "stdout",
     "output_type": "stream",
     "text": [
      "Epoch 132 of 300\n"
     ]
    },
    {
     "name": "stderr",
     "output_type": "stream",
     "text": [
      "14it [00:00, 14.02it/s]                        \n",
      "2it [00:00, 19.48it/s]               \n"
     ]
    },
    {
     "name": "stdout",
     "output_type": "stream",
     "text": [
      "Epoch 133 of 300\n"
     ]
    },
    {
     "name": "stderr",
     "output_type": "stream",
     "text": [
      "14it [00:01, 13.40it/s]                        \n",
      "2it [00:00, 15.93it/s]               \n"
     ]
    },
    {
     "name": "stdout",
     "output_type": "stream",
     "text": [
      "Epoch 134 of 300\n"
     ]
    },
    {
     "name": "stderr",
     "output_type": "stream",
     "text": [
      "14it [00:01, 12.80it/s]                        \n",
      "2it [00:00, 28.59it/s]               \n"
     ]
    },
    {
     "name": "stdout",
     "output_type": "stream",
     "text": [
      "Epoch 135 of 300\n"
     ]
    },
    {
     "name": "stderr",
     "output_type": "stream",
     "text": [
      "14it [00:01, 12.72it/s]                        \n",
      "2it [00:00, 18.38it/s]               \n"
     ]
    },
    {
     "name": "stdout",
     "output_type": "stream",
     "text": [
      "Epoch 136 of 300\n"
     ]
    },
    {
     "name": "stderr",
     "output_type": "stream",
     "text": [
      "14it [00:01, 12.45it/s]                        \n",
      "2it [00:00, 18.66it/s]               \n"
     ]
    },
    {
     "name": "stdout",
     "output_type": "stream",
     "text": [
      "Epoch 137 of 300\n"
     ]
    },
    {
     "name": "stderr",
     "output_type": "stream",
     "text": [
      "14it [00:01, 13.09it/s]                        \n",
      "2it [00:00, 14.68it/s]               \n"
     ]
    },
    {
     "name": "stdout",
     "output_type": "stream",
     "text": [
      "Epoch 138 of 300\n"
     ]
    },
    {
     "name": "stderr",
     "output_type": "stream",
     "text": [
      "14it [00:01, 13.82it/s]                        \n",
      "2it [00:00, 16.67it/s]               \n"
     ]
    },
    {
     "name": "stdout",
     "output_type": "stream",
     "text": [
      "Epoch 139 of 300\n"
     ]
    },
    {
     "name": "stderr",
     "output_type": "stream",
     "text": [
      "14it [00:01, 12.34it/s]                        \n",
      "2it [00:00, 14.93it/s]               \n"
     ]
    },
    {
     "name": "stdout",
     "output_type": "stream",
     "text": [
      "Epoch 140 of 300\n"
     ]
    },
    {
     "name": "stderr",
     "output_type": "stream",
     "text": [
      "14it [00:01, 13.25it/s]                        \n",
      "2it [00:00, 17.06it/s]               \n"
     ]
    },
    {
     "name": "stdout",
     "output_type": "stream",
     "text": [
      "Epoch 141 of 300\n"
     ]
    },
    {
     "name": "stderr",
     "output_type": "stream",
     "text": [
      "14it [00:01, 13.22it/s]                        \n",
      "2it [00:00, 29.45it/s]               \n"
     ]
    },
    {
     "name": "stdout",
     "output_type": "stream",
     "text": [
      "Epoch 142 of 300\n"
     ]
    },
    {
     "name": "stderr",
     "output_type": "stream",
     "text": [
      "14it [00:01, 13.53it/s]                        \n",
      "2it [00:00, 15.28it/s]               \n"
     ]
    },
    {
     "name": "stdout",
     "output_type": "stream",
     "text": [
      "Epoch 143 of 300\n"
     ]
    },
    {
     "name": "stderr",
     "output_type": "stream",
     "text": [
      "14it [00:01, 12.84it/s]                        \n",
      "2it [00:00, 18.03it/s]               \n"
     ]
    },
    {
     "name": "stdout",
     "output_type": "stream",
     "text": [
      "Epoch 144 of 300\n"
     ]
    },
    {
     "name": "stderr",
     "output_type": "stream",
     "text": [
      "14it [00:01, 12.94it/s]                        \n",
      "2it [00:00, 18.06it/s]               \n"
     ]
    },
    {
     "name": "stdout",
     "output_type": "stream",
     "text": [
      "Epoch 145 of 300\n"
     ]
    },
    {
     "name": "stderr",
     "output_type": "stream",
     "text": [
      "14it [00:01, 12.58it/s]                        \n",
      "2it [00:00, 17.93it/s]               \n"
     ]
    },
    {
     "name": "stdout",
     "output_type": "stream",
     "text": [
      "Epoch 146 of 300\n"
     ]
    },
    {
     "name": "stderr",
     "output_type": "stream",
     "text": [
      "14it [00:01, 12.02it/s]                        \n",
      "2it [00:00, 24.14it/s]               \n"
     ]
    },
    {
     "name": "stdout",
     "output_type": "stream",
     "text": [
      "Epoch 147 of 300\n"
     ]
    },
    {
     "name": "stderr",
     "output_type": "stream",
     "text": [
      "14it [00:01, 13.64it/s]                        \n",
      "2it [00:00, 17.33it/s]               \n"
     ]
    },
    {
     "name": "stdout",
     "output_type": "stream",
     "text": [
      "Epoch 148 of 300\n"
     ]
    },
    {
     "name": "stderr",
     "output_type": "stream",
     "text": [
      "14it [00:01, 12.18it/s]                        \n",
      "2it [00:00, 17.35it/s]               \n"
     ]
    },
    {
     "name": "stdout",
     "output_type": "stream",
     "text": [
      "Epoch 149 of 300\n"
     ]
    },
    {
     "name": "stderr",
     "output_type": "stream",
     "text": [
      "14it [00:01, 13.48it/s]                        \n",
      "2it [00:00, 15.08it/s]               \n"
     ]
    },
    {
     "name": "stdout",
     "output_type": "stream",
     "text": [
      "Epoch 150 of 300\n"
     ]
    },
    {
     "name": "stderr",
     "output_type": "stream",
     "text": [
      "14it [00:01, 13.26it/s]                        \n",
      "2it [00:00, 17.35it/s]               \n"
     ]
    },
    {
     "name": "stdout",
     "output_type": "stream",
     "text": [
      "Epoch 151 of 300\n"
     ]
    },
    {
     "name": "stderr",
     "output_type": "stream",
     "text": [
      "14it [00:01, 12.35it/s]                        \n",
      "2it [00:00, 22.13it/s]               \n"
     ]
    },
    {
     "name": "stdout",
     "output_type": "stream",
     "text": [
      "Train Loss: 1307.7970\n",
      "Val Loss: 1319.9512\n",
      "Epoch 152 of 300\n"
     ]
    },
    {
     "name": "stderr",
     "output_type": "stream",
     "text": [
      "14it [00:01, 13.22it/s]                        \n",
      "2it [00:00, 15.60it/s]               \n"
     ]
    },
    {
     "name": "stdout",
     "output_type": "stream",
     "text": [
      "Epoch 153 of 300\n"
     ]
    },
    {
     "name": "stderr",
     "output_type": "stream",
     "text": [
      "14it [00:01, 12.32it/s]                        \n",
      "2it [00:00, 21.92it/s]               \n"
     ]
    },
    {
     "name": "stdout",
     "output_type": "stream",
     "text": [
      "Epoch 154 of 300\n"
     ]
    },
    {
     "name": "stderr",
     "output_type": "stream",
     "text": [
      "14it [00:01, 12.60it/s]                        \n",
      "2it [00:00, 19.50it/s]               \n"
     ]
    },
    {
     "name": "stdout",
     "output_type": "stream",
     "text": [
      "Epoch 155 of 300\n"
     ]
    },
    {
     "name": "stderr",
     "output_type": "stream",
     "text": [
      "14it [00:01, 12.07it/s]                        \n",
      "2it [00:00, 23.21it/s]               \n"
     ]
    },
    {
     "name": "stdout",
     "output_type": "stream",
     "text": [
      "Epoch 156 of 300\n"
     ]
    },
    {
     "name": "stderr",
     "output_type": "stream",
     "text": [
      "14it [00:01, 12.43it/s]                        \n",
      "2it [00:00, 18.45it/s]               \n"
     ]
    },
    {
     "name": "stdout",
     "output_type": "stream",
     "text": [
      "Epoch 157 of 300\n"
     ]
    },
    {
     "name": "stderr",
     "output_type": "stream",
     "text": [
      "14it [00:01, 12.33it/s]                        \n",
      "2it [00:00, 18.01it/s]               \n"
     ]
    },
    {
     "name": "stdout",
     "output_type": "stream",
     "text": [
      "Epoch 158 of 300\n"
     ]
    },
    {
     "name": "stderr",
     "output_type": "stream",
     "text": [
      "14it [00:01, 13.11it/s]                        \n",
      "2it [00:00, 11.93it/s]                       \n"
     ]
    },
    {
     "name": "stdout",
     "output_type": "stream",
     "text": [
      "Epoch 159 of 300\n"
     ]
    },
    {
     "name": "stderr",
     "output_type": "stream",
     "text": [
      "14it [00:01, 12.71it/s]                        \n",
      "2it [00:00, 29.48it/s]               \n"
     ]
    },
    {
     "name": "stdout",
     "output_type": "stream",
     "text": [
      "Epoch 160 of 300\n"
     ]
    },
    {
     "name": "stderr",
     "output_type": "stream",
     "text": [
      "14it [00:01, 13.41it/s]                        \n",
      "2it [00:00, 18.91it/s]               \n"
     ]
    },
    {
     "name": "stdout",
     "output_type": "stream",
     "text": [
      "Epoch 161 of 300\n"
     ]
    },
    {
     "name": "stderr",
     "output_type": "stream",
     "text": [
      "14it [00:01, 12.99it/s]                        \n",
      "2it [00:00, 16.23it/s]               \n"
     ]
    },
    {
     "name": "stdout",
     "output_type": "stream",
     "text": [
      "Epoch 162 of 300\n"
     ]
    },
    {
     "name": "stderr",
     "output_type": "stream",
     "text": [
      "14it [00:01, 13.52it/s]                        \n",
      "2it [00:00, 15.52it/s]               \n"
     ]
    },
    {
     "name": "stdout",
     "output_type": "stream",
     "text": [
      "Epoch 163 of 300\n"
     ]
    },
    {
     "name": "stderr",
     "output_type": "stream",
     "text": [
      "14it [00:01, 13.41it/s]                        \n",
      "2it [00:00, 21.83it/s]               \n"
     ]
    },
    {
     "name": "stdout",
     "output_type": "stream",
     "text": [
      "Epoch 164 of 300\n"
     ]
    },
    {
     "name": "stderr",
     "output_type": "stream",
     "text": [
      "14it [00:01, 13.77it/s]                        \n",
      "2it [00:00, 17.21it/s]               \n"
     ]
    },
    {
     "name": "stdout",
     "output_type": "stream",
     "text": [
      "Epoch 165 of 300\n"
     ]
    },
    {
     "name": "stderr",
     "output_type": "stream",
     "text": [
      "14it [00:00, 14.40it/s]                        \n",
      "2it [00:00, 15.82it/s]               \n"
     ]
    },
    {
     "name": "stdout",
     "output_type": "stream",
     "text": [
      "Epoch 166 of 300\n"
     ]
    },
    {
     "name": "stderr",
     "output_type": "stream",
     "text": [
      "14it [00:01, 12.66it/s]                        \n",
      "2it [00:00, 18.51it/s]               \n"
     ]
    },
    {
     "name": "stdout",
     "output_type": "stream",
     "text": [
      "Epoch 167 of 300\n"
     ]
    },
    {
     "name": "stderr",
     "output_type": "stream",
     "text": [
      "14it [00:01, 13.21it/s]                        \n",
      "2it [00:00, 16.63it/s]               \n"
     ]
    },
    {
     "name": "stdout",
     "output_type": "stream",
     "text": [
      "Epoch 168 of 300\n"
     ]
    },
    {
     "name": "stderr",
     "output_type": "stream",
     "text": [
      "14it [00:01, 12.82it/s]                        \n",
      "2it [00:00, 14.31it/s]               \n"
     ]
    },
    {
     "name": "stdout",
     "output_type": "stream",
     "text": [
      "Epoch 169 of 300\n"
     ]
    },
    {
     "name": "stderr",
     "output_type": "stream",
     "text": [
      "14it [00:01, 13.23it/s]                        \n",
      "2it [00:00, 17.30it/s]               \n"
     ]
    },
    {
     "name": "stdout",
     "output_type": "stream",
     "text": [
      "Epoch 170 of 300\n"
     ]
    },
    {
     "name": "stderr",
     "output_type": "stream",
     "text": [
      "14it [00:01, 12.39it/s]                        \n",
      "2it [00:00, 17.19it/s]               \n"
     ]
    },
    {
     "name": "stdout",
     "output_type": "stream",
     "text": [
      "Epoch 171 of 300\n"
     ]
    },
    {
     "name": "stderr",
     "output_type": "stream",
     "text": [
      "14it [00:01, 12.37it/s]                        \n",
      "2it [00:00, 18.62it/s]               \n"
     ]
    },
    {
     "name": "stdout",
     "output_type": "stream",
     "text": [
      "Epoch 172 of 300\n"
     ]
    },
    {
     "name": "stderr",
     "output_type": "stream",
     "text": [
      "14it [00:01, 13.35it/s]                        \n",
      "2it [00:00, 15.29it/s]               \n"
     ]
    },
    {
     "name": "stdout",
     "output_type": "stream",
     "text": [
      "Epoch 173 of 300\n"
     ]
    },
    {
     "name": "stderr",
     "output_type": "stream",
     "text": [
      "14it [00:01, 11.98it/s]                        \n",
      "2it [00:00, 17.37it/s]               \n"
     ]
    },
    {
     "name": "stdout",
     "output_type": "stream",
     "text": [
      "Epoch 174 of 300\n"
     ]
    },
    {
     "name": "stderr",
     "output_type": "stream",
     "text": [
      "14it [00:01, 12.82it/s]                        \n",
      "2it [00:00, 19.09it/s]               \n"
     ]
    },
    {
     "name": "stdout",
     "output_type": "stream",
     "text": [
      "Epoch 175 of 300\n"
     ]
    },
    {
     "name": "stderr",
     "output_type": "stream",
     "text": [
      "14it [00:01, 12.90it/s]                        \n",
      "2it [00:00, 17.42it/s]               \n"
     ]
    },
    {
     "name": "stdout",
     "output_type": "stream",
     "text": [
      "Epoch 176 of 300\n"
     ]
    },
    {
     "name": "stderr",
     "output_type": "stream",
     "text": [
      "14it [00:01, 12.55it/s]                        \n",
      "2it [00:00, 15.60it/s]               \n"
     ]
    },
    {
     "name": "stdout",
     "output_type": "stream",
     "text": [
      "Train Loss: 1229.3213\n",
      "Val Loss: 1261.1097\n",
      "Epoch 177 of 300\n"
     ]
    },
    {
     "name": "stderr",
     "output_type": "stream",
     "text": [
      "14it [00:01, 12.76it/s]                        \n",
      "2it [00:00, 20.81it/s]               \n"
     ]
    },
    {
     "name": "stdout",
     "output_type": "stream",
     "text": [
      "Epoch 178 of 300\n"
     ]
    },
    {
     "name": "stderr",
     "output_type": "stream",
     "text": [
      "14it [00:01, 13.65it/s]                        \n",
      "2it [00:00, 16.70it/s]               \n"
     ]
    },
    {
     "name": "stdout",
     "output_type": "stream",
     "text": [
      "Epoch 179 of 300\n"
     ]
    },
    {
     "name": "stderr",
     "output_type": "stream",
     "text": [
      "14it [00:01, 12.69it/s]                        \n",
      "2it [00:00, 19.46it/s]               \n"
     ]
    },
    {
     "name": "stdout",
     "output_type": "stream",
     "text": [
      "Epoch 180 of 300\n"
     ]
    },
    {
     "name": "stderr",
     "output_type": "stream",
     "text": [
      "14it [00:01, 13.00it/s]                        \n",
      "2it [00:00, 13.38it/s]                       \n"
     ]
    },
    {
     "name": "stdout",
     "output_type": "stream",
     "text": [
      "Epoch 181 of 300\n"
     ]
    },
    {
     "name": "stderr",
     "output_type": "stream",
     "text": [
      "14it [00:01, 12.54it/s]                        \n",
      "2it [00:00, 16.24it/s]               \n"
     ]
    },
    {
     "name": "stdout",
     "output_type": "stream",
     "text": [
      "Epoch 182 of 300\n"
     ]
    },
    {
     "name": "stderr",
     "output_type": "stream",
     "text": [
      "14it [00:01, 13.68it/s]                        \n",
      "2it [00:00, 20.53it/s]               \n"
     ]
    },
    {
     "name": "stdout",
     "output_type": "stream",
     "text": [
      "Epoch 183 of 300\n"
     ]
    },
    {
     "name": "stderr",
     "output_type": "stream",
     "text": [
      "14it [00:01, 13.37it/s]                        \n",
      "2it [00:00, 17.81it/s]               \n"
     ]
    },
    {
     "name": "stdout",
     "output_type": "stream",
     "text": [
      "Epoch 184 of 300\n"
     ]
    },
    {
     "name": "stderr",
     "output_type": "stream",
     "text": [
      "14it [00:01, 12.04it/s]                        \n",
      "2it [00:00, 16.02it/s]               \n"
     ]
    },
    {
     "name": "stdout",
     "output_type": "stream",
     "text": [
      "Epoch 185 of 300\n"
     ]
    },
    {
     "name": "stderr",
     "output_type": "stream",
     "text": [
      "14it [00:01, 11.87it/s]                        \n",
      "2it [00:00, 17.94it/s]               \n"
     ]
    },
    {
     "name": "stdout",
     "output_type": "stream",
     "text": [
      "Epoch 186 of 300\n"
     ]
    },
    {
     "name": "stderr",
     "output_type": "stream",
     "text": [
      "14it [00:01, 12.56it/s]                        \n",
      "2it [00:00, 17.61it/s]               \n"
     ]
    },
    {
     "name": "stdout",
     "output_type": "stream",
     "text": [
      "Epoch 187 of 300\n"
     ]
    },
    {
     "name": "stderr",
     "output_type": "stream",
     "text": [
      "14it [00:01, 13.61it/s]                        \n",
      "2it [00:00, 21.21it/s]               \n"
     ]
    },
    {
     "name": "stdout",
     "output_type": "stream",
     "text": [
      "Epoch 188 of 300\n"
     ]
    },
    {
     "name": "stderr",
     "output_type": "stream",
     "text": [
      "14it [00:01, 13.88it/s]                        \n",
      "2it [00:00, 16.58it/s]               \n"
     ]
    },
    {
     "name": "stdout",
     "output_type": "stream",
     "text": [
      "Epoch 189 of 300\n"
     ]
    },
    {
     "name": "stderr",
     "output_type": "stream",
     "text": [
      "14it [00:01, 13.64it/s]                        \n",
      "2it [00:00, 17.15it/s]               \n"
     ]
    },
    {
     "name": "stdout",
     "output_type": "stream",
     "text": [
      "Epoch 190 of 300\n"
     ]
    },
    {
     "name": "stderr",
     "output_type": "stream",
     "text": [
      "14it [00:01, 12.91it/s]                        \n",
      "2it [00:00, 17.43it/s]               \n"
     ]
    },
    {
     "name": "stdout",
     "output_type": "stream",
     "text": [
      "Epoch 191 of 300\n"
     ]
    },
    {
     "name": "stderr",
     "output_type": "stream",
     "text": [
      "14it [00:01, 12.52it/s]                        \n",
      "2it [00:00, 18.83it/s]               \n"
     ]
    },
    {
     "name": "stdout",
     "output_type": "stream",
     "text": [
      "Epoch 192 of 300\n"
     ]
    },
    {
     "name": "stderr",
     "output_type": "stream",
     "text": [
      "14it [00:01, 12.74it/s]                        \n",
      "2it [00:00, 20.03it/s]               \n"
     ]
    },
    {
     "name": "stdout",
     "output_type": "stream",
     "text": [
      "Epoch 193 of 300\n"
     ]
    },
    {
     "name": "stderr",
     "output_type": "stream",
     "text": [
      "14it [00:01, 12.63it/s]                        \n",
      "2it [00:00, 18.50it/s]               \n"
     ]
    },
    {
     "name": "stdout",
     "output_type": "stream",
     "text": [
      "Epoch 194 of 300\n"
     ]
    },
    {
     "name": "stderr",
     "output_type": "stream",
     "text": [
      "14it [00:01, 12.85it/s]                        \n",
      "2it [00:00, 14.12it/s]               \n"
     ]
    },
    {
     "name": "stdout",
     "output_type": "stream",
     "text": [
      "Epoch 195 of 300\n"
     ]
    },
    {
     "name": "stderr",
     "output_type": "stream",
     "text": [
      "14it [00:01, 13.96it/s]                        \n",
      "2it [00:00, 17.34it/s]               \n"
     ]
    },
    {
     "name": "stdout",
     "output_type": "stream",
     "text": [
      "Epoch 196 of 300\n"
     ]
    },
    {
     "name": "stderr",
     "output_type": "stream",
     "text": [
      "14it [00:01, 12.67it/s]                        \n",
      "2it [00:00, 16.66it/s]               \n"
     ]
    },
    {
     "name": "stdout",
     "output_type": "stream",
     "text": [
      "Epoch 197 of 300\n"
     ]
    },
    {
     "name": "stderr",
     "output_type": "stream",
     "text": [
      "14it [00:01, 13.70it/s]                        \n",
      "2it [00:00, 16.49it/s]               \n"
     ]
    },
    {
     "name": "stdout",
     "output_type": "stream",
     "text": [
      "Epoch 198 of 300\n"
     ]
    },
    {
     "name": "stderr",
     "output_type": "stream",
     "text": [
      "14it [00:01, 13.20it/s]                        \n",
      "2it [00:00, 18.07it/s]               \n"
     ]
    },
    {
     "name": "stdout",
     "output_type": "stream",
     "text": [
      "Epoch 199 of 300\n"
     ]
    },
    {
     "name": "stderr",
     "output_type": "stream",
     "text": [
      "14it [00:01, 13.62it/s]                        \n",
      "2it [00:00, 20.13it/s]               \n"
     ]
    },
    {
     "name": "stdout",
     "output_type": "stream",
     "text": [
      "Epoch 200 of 300\n"
     ]
    },
    {
     "name": "stderr",
     "output_type": "stream",
     "text": [
      "14it [00:01, 13.53it/s]                        \n",
      "2it [00:00, 20.69it/s]               \n"
     ]
    },
    {
     "name": "stdout",
     "output_type": "stream",
     "text": [
      "Epoch 201 of 300\n"
     ]
    },
    {
     "name": "stderr",
     "output_type": "stream",
     "text": [
      "14it [00:01, 13.43it/s]                        \n",
      "2it [00:00, 18.47it/s]               \n"
     ]
    },
    {
     "name": "stdout",
     "output_type": "stream",
     "text": [
      "Train Loss: 1161.7670\n",
      "Val Loss: 1138.1943\n",
      "Epoch 202 of 300\n"
     ]
    },
    {
     "name": "stderr",
     "output_type": "stream",
     "text": [
      "14it [00:01, 13.30it/s]                        \n",
      "2it [00:00, 17.05it/s]               \n"
     ]
    },
    {
     "name": "stdout",
     "output_type": "stream",
     "text": [
      "Epoch 203 of 300\n"
     ]
    },
    {
     "name": "stderr",
     "output_type": "stream",
     "text": [
      "14it [00:01, 13.48it/s]                        \n",
      "2it [00:00, 26.27it/s]               \n"
     ]
    },
    {
     "name": "stdout",
     "output_type": "stream",
     "text": [
      "Epoch 204 of 300\n"
     ]
    },
    {
     "name": "stderr",
     "output_type": "stream",
     "text": [
      "14it [00:01, 13.33it/s]                        \n",
      "2it [00:00, 16.83it/s]               \n"
     ]
    },
    {
     "name": "stdout",
     "output_type": "stream",
     "text": [
      "Epoch 205 of 300\n"
     ]
    },
    {
     "name": "stderr",
     "output_type": "stream",
     "text": [
      "14it [00:01, 13.39it/s]                        \n",
      "2it [00:00, 16.63it/s]               \n"
     ]
    },
    {
     "name": "stdout",
     "output_type": "stream",
     "text": [
      "Epoch 206 of 300\n"
     ]
    },
    {
     "name": "stderr",
     "output_type": "stream",
     "text": [
      "14it [00:01, 11.84it/s]                        \n",
      "2it [00:00, 19.36it/s]               \n"
     ]
    },
    {
     "name": "stdout",
     "output_type": "stream",
     "text": [
      "Epoch 207 of 300\n"
     ]
    },
    {
     "name": "stderr",
     "output_type": "stream",
     "text": [
      "14it [00:01, 13.22it/s]                        \n",
      "2it [00:00, 17.73it/s]               \n"
     ]
    },
    {
     "name": "stdout",
     "output_type": "stream",
     "text": [
      "Epoch 208 of 300\n"
     ]
    },
    {
     "name": "stderr",
     "output_type": "stream",
     "text": [
      "14it [00:01, 13.34it/s]                        \n",
      "2it [00:00, 21.89it/s]               \n"
     ]
    },
    {
     "name": "stdout",
     "output_type": "stream",
     "text": [
      "Epoch 209 of 300\n"
     ]
    },
    {
     "name": "stderr",
     "output_type": "stream",
     "text": [
      "14it [00:01, 12.88it/s]                        \n",
      "2it [00:00, 17.51it/s]               \n"
     ]
    },
    {
     "name": "stdout",
     "output_type": "stream",
     "text": [
      "Epoch 210 of 300\n"
     ]
    },
    {
     "name": "stderr",
     "output_type": "stream",
     "text": [
      "14it [00:01, 13.20it/s]                        \n",
      "2it [00:00, 16.40it/s]               \n"
     ]
    },
    {
     "name": "stdout",
     "output_type": "stream",
     "text": [
      "Epoch 211 of 300\n"
     ]
    },
    {
     "name": "stderr",
     "output_type": "stream",
     "text": [
      "14it [00:00, 14.58it/s]                        \n",
      "2it [00:00, 14.62it/s]               \n"
     ]
    },
    {
     "name": "stdout",
     "output_type": "stream",
     "text": [
      "Epoch 212 of 300\n"
     ]
    },
    {
     "name": "stderr",
     "output_type": "stream",
     "text": [
      "14it [00:01, 12.40it/s]                        \n",
      "2it [00:00, 17.44it/s]               \n"
     ]
    },
    {
     "name": "stdout",
     "output_type": "stream",
     "text": [
      "Epoch 213 of 300\n"
     ]
    },
    {
     "name": "stderr",
     "output_type": "stream",
     "text": [
      "14it [00:01, 13.46it/s]                        \n",
      "2it [00:00, 17.66it/s]               \n"
     ]
    },
    {
     "name": "stdout",
     "output_type": "stream",
     "text": [
      "Epoch 214 of 300\n"
     ]
    },
    {
     "name": "stderr",
     "output_type": "stream",
     "text": [
      "14it [00:01, 13.19it/s]                        \n",
      "2it [00:00, 17.31it/s]               \n"
     ]
    },
    {
     "name": "stdout",
     "output_type": "stream",
     "text": [
      "Epoch 215 of 300\n"
     ]
    },
    {
     "name": "stderr",
     "output_type": "stream",
     "text": [
      "14it [00:01, 13.45it/s]                        \n",
      "2it [00:00, 19.41it/s]               \n"
     ]
    },
    {
     "name": "stdout",
     "output_type": "stream",
     "text": [
      "Epoch 216 of 300\n"
     ]
    },
    {
     "name": "stderr",
     "output_type": "stream",
     "text": [
      "14it [00:01, 13.02it/s]                        \n",
      "2it [00:00, 16.20it/s]               \n"
     ]
    },
    {
     "name": "stdout",
     "output_type": "stream",
     "text": [
      "Epoch 217 of 300\n"
     ]
    },
    {
     "name": "stderr",
     "output_type": "stream",
     "text": [
      "14it [00:01, 12.62it/s]                        \n",
      "2it [00:00, 18.74it/s]               \n"
     ]
    },
    {
     "name": "stdout",
     "output_type": "stream",
     "text": [
      "Epoch 218 of 300\n"
     ]
    },
    {
     "name": "stderr",
     "output_type": "stream",
     "text": [
      "14it [00:01, 13.52it/s]                        \n",
      "2it [00:00, 16.15it/s]               \n"
     ]
    },
    {
     "name": "stdout",
     "output_type": "stream",
     "text": [
      "Epoch 219 of 300\n"
     ]
    },
    {
     "name": "stderr",
     "output_type": "stream",
     "text": [
      "14it [00:01, 13.34it/s]                        \n",
      "2it [00:00, 18.64it/s]               \n"
     ]
    },
    {
     "name": "stdout",
     "output_type": "stream",
     "text": [
      "Epoch 220 of 300\n"
     ]
    },
    {
     "name": "stderr",
     "output_type": "stream",
     "text": [
      "14it [00:01, 13.95it/s]                        \n",
      "2it [00:00, 17.65it/s]               \n"
     ]
    },
    {
     "name": "stdout",
     "output_type": "stream",
     "text": [
      "Epoch 221 of 300\n"
     ]
    },
    {
     "name": "stderr",
     "output_type": "stream",
     "text": [
      "14it [00:01, 13.97it/s]                        \n",
      "2it [00:00, 16.69it/s]               \n"
     ]
    },
    {
     "name": "stdout",
     "output_type": "stream",
     "text": [
      "Epoch 222 of 300\n"
     ]
    },
    {
     "name": "stderr",
     "output_type": "stream",
     "text": [
      "14it [00:01, 13.76it/s]                        \n",
      "2it [00:00, 17.78it/s]               \n"
     ]
    },
    {
     "name": "stdout",
     "output_type": "stream",
     "text": [
      "Epoch 223 of 300\n"
     ]
    },
    {
     "name": "stderr",
     "output_type": "stream",
     "text": [
      "14it [00:01, 13.06it/s]                        \n",
      "2it [00:00, 18.23it/s]               \n"
     ]
    },
    {
     "name": "stdout",
     "output_type": "stream",
     "text": [
      "Epoch 224 of 300\n"
     ]
    },
    {
     "name": "stderr",
     "output_type": "stream",
     "text": [
      "14it [00:01, 12.99it/s]                        \n",
      "2it [00:00, 12.42it/s]                       \n"
     ]
    },
    {
     "name": "stdout",
     "output_type": "stream",
     "text": [
      "Epoch 225 of 300\n"
     ]
    },
    {
     "name": "stderr",
     "output_type": "stream",
     "text": [
      "14it [00:01, 13.21it/s]                        \n",
      "2it [00:00, 18.12it/s]               \n"
     ]
    },
    {
     "name": "stdout",
     "output_type": "stream",
     "text": [
      "Epoch 226 of 300\n"
     ]
    },
    {
     "name": "stderr",
     "output_type": "stream",
     "text": [
      "14it [00:01, 12.68it/s]                        \n",
      "2it [00:00, 15.89it/s]               \n"
     ]
    },
    {
     "name": "stdout",
     "output_type": "stream",
     "text": [
      "Train Loss: 1129.9346\n",
      "Val Loss: 1079.4133\n",
      "Epoch 227 of 300\n"
     ]
    },
    {
     "name": "stderr",
     "output_type": "stream",
     "text": [
      "14it [00:01, 12.87it/s]                        \n",
      "2it [00:00, 17.53it/s]               \n"
     ]
    },
    {
     "name": "stdout",
     "output_type": "stream",
     "text": [
      "Epoch 228 of 300\n"
     ]
    },
    {
     "name": "stderr",
     "output_type": "stream",
     "text": [
      "14it [00:01, 13.74it/s]                        \n",
      "2it [00:00, 13.47it/s]                       \n"
     ]
    },
    {
     "name": "stdout",
     "output_type": "stream",
     "text": [
      "Epoch 229 of 300\n"
     ]
    },
    {
     "name": "stderr",
     "output_type": "stream",
     "text": [
      "14it [00:01, 12.53it/s]                        \n",
      "2it [00:00, 15.51it/s]               \n"
     ]
    },
    {
     "name": "stdout",
     "output_type": "stream",
     "text": [
      "Epoch 230 of 300\n"
     ]
    },
    {
     "name": "stderr",
     "output_type": "stream",
     "text": [
      "14it [00:01, 13.29it/s]                        \n",
      "2it [00:00, 20.45it/s]               \n"
     ]
    },
    {
     "name": "stdout",
     "output_type": "stream",
     "text": [
      "Epoch 231 of 300\n"
     ]
    },
    {
     "name": "stderr",
     "output_type": "stream",
     "text": [
      "14it [00:01, 13.09it/s]                        \n",
      "2it [00:00, 15.20it/s]               \n"
     ]
    },
    {
     "name": "stdout",
     "output_type": "stream",
     "text": [
      "Epoch 232 of 300\n"
     ]
    },
    {
     "name": "stderr",
     "output_type": "stream",
     "text": [
      "14it [00:01, 12.66it/s]                        \n",
      "2it [00:00, 19.51it/s]               \n"
     ]
    },
    {
     "name": "stdout",
     "output_type": "stream",
     "text": [
      "Epoch 233 of 300\n"
     ]
    },
    {
     "name": "stderr",
     "output_type": "stream",
     "text": [
      "14it [00:01, 13.02it/s]                        \n",
      "2it [00:00, 18.98it/s]               \n"
     ]
    },
    {
     "name": "stdout",
     "output_type": "stream",
     "text": [
      "Epoch 234 of 300\n"
     ]
    },
    {
     "name": "stderr",
     "output_type": "stream",
     "text": [
      "14it [00:00, 14.15it/s]                        \n",
      "2it [00:00, 16.82it/s]               \n"
     ]
    },
    {
     "name": "stdout",
     "output_type": "stream",
     "text": [
      "Epoch 235 of 300\n"
     ]
    },
    {
     "name": "stderr",
     "output_type": "stream",
     "text": [
      "14it [00:01, 13.26it/s]                        \n",
      "2it [00:00, 24.39it/s]               \n"
     ]
    },
    {
     "name": "stdout",
     "output_type": "stream",
     "text": [
      "Epoch 236 of 300\n"
     ]
    },
    {
     "name": "stderr",
     "output_type": "stream",
     "text": [
      "14it [00:01, 13.01it/s]                        \n",
      "2it [00:00, 16.58it/s]               \n"
     ]
    },
    {
     "name": "stdout",
     "output_type": "stream",
     "text": [
      "Epoch 237 of 300\n"
     ]
    },
    {
     "name": "stderr",
     "output_type": "stream",
     "text": [
      "14it [00:01, 12.32it/s]                        \n",
      "2it [00:00, 20.66it/s]               \n"
     ]
    },
    {
     "name": "stdout",
     "output_type": "stream",
     "text": [
      "Epoch 238 of 300\n"
     ]
    },
    {
     "name": "stderr",
     "output_type": "stream",
     "text": [
      "14it [00:01, 13.67it/s]                        \n",
      "2it [00:00, 20.28it/s]               \n"
     ]
    },
    {
     "name": "stdout",
     "output_type": "stream",
     "text": [
      "Epoch 239 of 300\n"
     ]
    },
    {
     "name": "stderr",
     "output_type": "stream",
     "text": [
      "14it [00:01, 11.92it/s]                        \n",
      "2it [00:00, 18.92it/s]               \n"
     ]
    },
    {
     "name": "stdout",
     "output_type": "stream",
     "text": [
      "Epoch 240 of 300\n"
     ]
    },
    {
     "name": "stderr",
     "output_type": "stream",
     "text": [
      "14it [00:01, 12.79it/s]                        \n",
      "2it [00:00, 17.67it/s]               \n"
     ]
    },
    {
     "name": "stdout",
     "output_type": "stream",
     "text": [
      "Epoch 241 of 300\n"
     ]
    },
    {
     "name": "stderr",
     "output_type": "stream",
     "text": [
      "14it [00:01, 12.57it/s]                        \n",
      "2it [00:00, 16.10it/s]               \n"
     ]
    },
    {
     "name": "stdout",
     "output_type": "stream",
     "text": [
      "Epoch 242 of 300\n"
     ]
    },
    {
     "name": "stderr",
     "output_type": "stream",
     "text": [
      "14it [00:01, 13.71it/s]                        \n",
      "2it [00:00, 17.56it/s]               \n"
     ]
    },
    {
     "name": "stdout",
     "output_type": "stream",
     "text": [
      "Epoch 243 of 300\n"
     ]
    },
    {
     "name": "stderr",
     "output_type": "stream",
     "text": [
      "14it [00:01, 13.48it/s]                        \n",
      "2it [00:00, 16.52it/s]               \n"
     ]
    },
    {
     "name": "stdout",
     "output_type": "stream",
     "text": [
      "Epoch 244 of 300\n"
     ]
    },
    {
     "name": "stderr",
     "output_type": "stream",
     "text": [
      "14it [00:01, 12.56it/s]                        \n",
      "2it [00:00, 18.72it/s]               \n"
     ]
    },
    {
     "name": "stdout",
     "output_type": "stream",
     "text": [
      "Epoch 245 of 300\n"
     ]
    },
    {
     "name": "stderr",
     "output_type": "stream",
     "text": [
      "14it [00:01, 13.54it/s]                        \n",
      "2it [00:00, 19.71it/s]               \n"
     ]
    },
    {
     "name": "stdout",
     "output_type": "stream",
     "text": [
      "Epoch 246 of 300\n"
     ]
    },
    {
     "name": "stderr",
     "output_type": "stream",
     "text": [
      "14it [00:01, 12.02it/s]                        \n",
      "2it [00:00, 16.39it/s]               \n"
     ]
    },
    {
     "name": "stdout",
     "output_type": "stream",
     "text": [
      "Epoch 247 of 300\n"
     ]
    },
    {
     "name": "stderr",
     "output_type": "stream",
     "text": [
      "14it [00:01, 12.87it/s]                        \n",
      "2it [00:00, 18.58it/s]               \n"
     ]
    },
    {
     "name": "stdout",
     "output_type": "stream",
     "text": [
      "Epoch 248 of 300\n"
     ]
    },
    {
     "name": "stderr",
     "output_type": "stream",
     "text": [
      "14it [00:01, 12.83it/s]                        \n",
      "2it [00:00, 18.90it/s]               \n"
     ]
    },
    {
     "name": "stdout",
     "output_type": "stream",
     "text": [
      "Epoch 249 of 300\n"
     ]
    },
    {
     "name": "stderr",
     "output_type": "stream",
     "text": [
      "14it [00:01, 12.68it/s]                        \n",
      "2it [00:00, 17.72it/s]               \n"
     ]
    },
    {
     "name": "stdout",
     "output_type": "stream",
     "text": [
      "Epoch 250 of 300\n"
     ]
    },
    {
     "name": "stderr",
     "output_type": "stream",
     "text": [
      "14it [00:01, 12.62it/s]                        \n",
      "2it [00:00, 15.80it/s]               \n"
     ]
    },
    {
     "name": "stdout",
     "output_type": "stream",
     "text": [
      "Epoch 251 of 300\n"
     ]
    },
    {
     "name": "stderr",
     "output_type": "stream",
     "text": [
      "14it [00:01, 12.71it/s]                        \n",
      "2it [00:00, 14.35it/s]               \n"
     ]
    },
    {
     "name": "stdout",
     "output_type": "stream",
     "text": [
      "Train Loss: 1116.5199\n",
      "Val Loss: 1093.4606\n",
      "Epoch 252 of 300\n"
     ]
    },
    {
     "name": "stderr",
     "output_type": "stream",
     "text": [
      "14it [00:00, 14.19it/s]                        \n",
      "2it [00:00, 19.73it/s]               \n"
     ]
    },
    {
     "name": "stdout",
     "output_type": "stream",
     "text": [
      "Epoch 253 of 300\n"
     ]
    },
    {
     "name": "stderr",
     "output_type": "stream",
     "text": [
      "14it [00:01, 12.94it/s]                        \n",
      "2it [00:00, 19.42it/s]               \n"
     ]
    },
    {
     "name": "stdout",
     "output_type": "stream",
     "text": [
      "Epoch 254 of 300\n"
     ]
    },
    {
     "name": "stderr",
     "output_type": "stream",
     "text": [
      "14it [00:01, 12.46it/s]                        \n",
      "2it [00:00, 19.37it/s]               \n"
     ]
    },
    {
     "name": "stdout",
     "output_type": "stream",
     "text": [
      "Epoch 255 of 300\n"
     ]
    },
    {
     "name": "stderr",
     "output_type": "stream",
     "text": [
      "14it [00:01, 13.15it/s]                        \n",
      "2it [00:00, 15.94it/s]               \n"
     ]
    },
    {
     "name": "stdout",
     "output_type": "stream",
     "text": [
      "Epoch 256 of 300\n"
     ]
    },
    {
     "name": "stderr",
     "output_type": "stream",
     "text": [
      "14it [00:01, 13.68it/s]                        \n",
      "2it [00:00, 19.41it/s]               \n"
     ]
    },
    {
     "name": "stdout",
     "output_type": "stream",
     "text": [
      "Epoch 257 of 300\n"
     ]
    },
    {
     "name": "stderr",
     "output_type": "stream",
     "text": [
      "14it [00:01, 13.61it/s]                        \n",
      "2it [00:00, 20.59it/s]               \n"
     ]
    },
    {
     "name": "stdout",
     "output_type": "stream",
     "text": [
      "Epoch 258 of 300\n"
     ]
    },
    {
     "name": "stderr",
     "output_type": "stream",
     "text": [
      "14it [00:01, 13.12it/s]                        \n",
      "2it [00:00, 16.95it/s]               \n"
     ]
    },
    {
     "name": "stdout",
     "output_type": "stream",
     "text": [
      "Epoch 259 of 300\n"
     ]
    },
    {
     "name": "stderr",
     "output_type": "stream",
     "text": [
      "14it [00:01, 13.30it/s]                        \n",
      "2it [00:00, 18.64it/s]               \n"
     ]
    },
    {
     "name": "stdout",
     "output_type": "stream",
     "text": [
      "Epoch 260 of 300\n"
     ]
    },
    {
     "name": "stderr",
     "output_type": "stream",
     "text": [
      "14it [00:01, 13.21it/s]                        \n",
      "2it [00:00, 23.00it/s]               \n"
     ]
    },
    {
     "name": "stdout",
     "output_type": "stream",
     "text": [
      "Epoch 261 of 300\n"
     ]
    },
    {
     "name": "stderr",
     "output_type": "stream",
     "text": [
      "14it [00:01, 13.36it/s]                        \n",
      "2it [00:00, 19.38it/s]               \n"
     ]
    },
    {
     "name": "stdout",
     "output_type": "stream",
     "text": [
      "Epoch 262 of 300\n"
     ]
    },
    {
     "name": "stderr",
     "output_type": "stream",
     "text": [
      "14it [00:01, 12.38it/s]                        \n",
      "2it [00:00, 18.73it/s]               \n"
     ]
    },
    {
     "name": "stdout",
     "output_type": "stream",
     "text": [
      "Epoch 263 of 300\n"
     ]
    },
    {
     "name": "stderr",
     "output_type": "stream",
     "text": [
      "14it [00:01, 13.05it/s]                        \n",
      "2it [00:00, 15.64it/s]               \n"
     ]
    },
    {
     "name": "stdout",
     "output_type": "stream",
     "text": [
      "Epoch 264 of 300\n"
     ]
    },
    {
     "name": "stderr",
     "output_type": "stream",
     "text": [
      "14it [00:01, 13.27it/s]                        \n",
      "2it [00:00, 14.50it/s]               \n"
     ]
    },
    {
     "name": "stdout",
     "output_type": "stream",
     "text": [
      "Epoch 265 of 300\n"
     ]
    },
    {
     "name": "stderr",
     "output_type": "stream",
     "text": [
      "14it [00:01, 12.12it/s]                        \n",
      "2it [00:00, 14.33it/s]               \n"
     ]
    },
    {
     "name": "stdout",
     "output_type": "stream",
     "text": [
      "Epoch 266 of 300\n"
     ]
    },
    {
     "name": "stderr",
     "output_type": "stream",
     "text": [
      "14it [00:01, 12.33it/s]                        \n",
      "2it [00:00, 19.13it/s]               \n"
     ]
    },
    {
     "name": "stdout",
     "output_type": "stream",
     "text": [
      "Epoch 267 of 300\n"
     ]
    },
    {
     "name": "stderr",
     "output_type": "stream",
     "text": [
      "14it [00:01, 12.75it/s]                        \n",
      "2it [00:00, 14.55it/s]               \n"
     ]
    },
    {
     "name": "stdout",
     "output_type": "stream",
     "text": [
      "Epoch 268 of 300\n"
     ]
    },
    {
     "name": "stderr",
     "output_type": "stream",
     "text": [
      "14it [00:01, 13.25it/s]                        \n",
      "2it [00:00, 26.84it/s]               \n"
     ]
    },
    {
     "name": "stdout",
     "output_type": "stream",
     "text": [
      "Epoch 269 of 300\n"
     ]
    },
    {
     "name": "stderr",
     "output_type": "stream",
     "text": [
      "14it [00:01, 13.30it/s]                        \n",
      "2it [00:00, 19.29it/s]               \n"
     ]
    },
    {
     "name": "stdout",
     "output_type": "stream",
     "text": [
      "Epoch 270 of 300\n"
     ]
    },
    {
     "name": "stderr",
     "output_type": "stream",
     "text": [
      "14it [00:01, 13.11it/s]                        \n",
      "2it [00:00, 16.73it/s]               \n"
     ]
    },
    {
     "name": "stdout",
     "output_type": "stream",
     "text": [
      "Epoch 271 of 300\n"
     ]
    },
    {
     "name": "stderr",
     "output_type": "stream",
     "text": [
      "14it [00:00, 14.17it/s]                        \n",
      "2it [00:00, 19.03it/s]               \n"
     ]
    },
    {
     "name": "stdout",
     "output_type": "stream",
     "text": [
      "Epoch 272 of 300\n"
     ]
    },
    {
     "name": "stderr",
     "output_type": "stream",
     "text": [
      "14it [00:01, 13.81it/s]                        \n",
      "2it [00:00, 17.50it/s]               \n"
     ]
    },
    {
     "name": "stdout",
     "output_type": "stream",
     "text": [
      "Epoch 273 of 300\n"
     ]
    },
    {
     "name": "stderr",
     "output_type": "stream",
     "text": [
      "14it [00:01, 12.16it/s]                        \n",
      "2it [00:00, 19.07it/s]               \n"
     ]
    },
    {
     "name": "stdout",
     "output_type": "stream",
     "text": [
      "Epoch 274 of 300\n"
     ]
    },
    {
     "name": "stderr",
     "output_type": "stream",
     "text": [
      "14it [00:01, 13.07it/s]                        \n",
      "2it [00:00, 23.35it/s]               \n"
     ]
    },
    {
     "name": "stdout",
     "output_type": "stream",
     "text": [
      "Epoch 275 of 300\n"
     ]
    },
    {
     "name": "stderr",
     "output_type": "stream",
     "text": [
      "14it [00:01, 13.04it/s]                        \n",
      "2it [00:00, 16.25it/s]               \n"
     ]
    },
    {
     "name": "stdout",
     "output_type": "stream",
     "text": [
      "Epoch 276 of 300\n"
     ]
    },
    {
     "name": "stderr",
     "output_type": "stream",
     "text": [
      "14it [00:01, 12.89it/s]                        \n",
      "2it [00:00, 20.88it/s]               \n"
     ]
    },
    {
     "name": "stdout",
     "output_type": "stream",
     "text": [
      "Train Loss: 1114.8126\n",
      "Val Loss: 1112.1296\n",
      "Epoch 277 of 300\n"
     ]
    },
    {
     "name": "stderr",
     "output_type": "stream",
     "text": [
      "14it [00:01, 13.19it/s]                        \n",
      "2it [00:00, 19.45it/s]               \n"
     ]
    },
    {
     "name": "stdout",
     "output_type": "stream",
     "text": [
      "Epoch 278 of 300\n"
     ]
    },
    {
     "name": "stderr",
     "output_type": "stream",
     "text": [
      "14it [00:01, 13.15it/s]                        \n",
      "2it [00:00, 16.10it/s]               \n"
     ]
    },
    {
     "name": "stdout",
     "output_type": "stream",
     "text": [
      "Epoch 279 of 300\n"
     ]
    },
    {
     "name": "stderr",
     "output_type": "stream",
     "text": [
      "14it [00:01, 13.39it/s]                        \n",
      "2it [00:00, 16.59it/s]               \n"
     ]
    },
    {
     "name": "stdout",
     "output_type": "stream",
     "text": [
      "Epoch 280 of 300\n"
     ]
    },
    {
     "name": "stderr",
     "output_type": "stream",
     "text": [
      "14it [00:01, 12.54it/s]                        \n",
      "2it [00:00, 21.37it/s]               \n"
     ]
    },
    {
     "name": "stdout",
     "output_type": "stream",
     "text": [
      "Epoch 281 of 300\n"
     ]
    },
    {
     "name": "stderr",
     "output_type": "stream",
     "text": [
      "14it [00:00, 14.14it/s]                        \n",
      "2it [00:00, 17.13it/s]               \n"
     ]
    },
    {
     "name": "stdout",
     "output_type": "stream",
     "text": [
      "Epoch 282 of 300\n"
     ]
    },
    {
     "name": "stderr",
     "output_type": "stream",
     "text": [
      "14it [00:00, 14.60it/s]                        \n",
      "2it [00:00, 14.91it/s]               \n"
     ]
    },
    {
     "name": "stdout",
     "output_type": "stream",
     "text": [
      "Epoch 283 of 300\n"
     ]
    },
    {
     "name": "stderr",
     "output_type": "stream",
     "text": [
      "14it [00:01, 12.51it/s]                        \n",
      "2it [00:00, 22.66it/s]               \n"
     ]
    },
    {
     "name": "stdout",
     "output_type": "stream",
     "text": [
      "Epoch 284 of 300\n"
     ]
    },
    {
     "name": "stderr",
     "output_type": "stream",
     "text": [
      "14it [00:01, 11.81it/s]                        \n",
      "2it [00:00, 14.90it/s]               \n"
     ]
    },
    {
     "name": "stdout",
     "output_type": "stream",
     "text": [
      "Epoch 285 of 300\n"
     ]
    },
    {
     "name": "stderr",
     "output_type": "stream",
     "text": [
      "14it [00:01, 13.09it/s]                        \n",
      "2it [00:00, 15.66it/s]               \n"
     ]
    },
    {
     "name": "stdout",
     "output_type": "stream",
     "text": [
      "Epoch 286 of 300\n"
     ]
    },
    {
     "name": "stderr",
     "output_type": "stream",
     "text": [
      "14it [00:01, 13.64it/s]                        \n",
      "2it [00:00, 15.89it/s]               \n"
     ]
    },
    {
     "name": "stdout",
     "output_type": "stream",
     "text": [
      "Epoch 287 of 300\n"
     ]
    },
    {
     "name": "stderr",
     "output_type": "stream",
     "text": [
      "14it [00:01, 13.29it/s]                        \n",
      "2it [00:00, 20.23it/s]               \n"
     ]
    },
    {
     "name": "stdout",
     "output_type": "stream",
     "text": [
      "Epoch 288 of 300\n"
     ]
    },
    {
     "name": "stderr",
     "output_type": "stream",
     "text": [
      "14it [00:01, 13.13it/s]                        \n",
      "2it [00:00, 21.93it/s]               \n"
     ]
    },
    {
     "name": "stdout",
     "output_type": "stream",
     "text": [
      "Epoch 289 of 300\n"
     ]
    },
    {
     "name": "stderr",
     "output_type": "stream",
     "text": [
      "14it [00:01, 12.57it/s]                        \n",
      "2it [00:00, 20.09it/s]               \n"
     ]
    },
    {
     "name": "stdout",
     "output_type": "stream",
     "text": [
      "Epoch 290 of 300\n"
     ]
    },
    {
     "name": "stderr",
     "output_type": "stream",
     "text": [
      "14it [00:01, 13.86it/s]                        \n",
      "2it [00:00, 27.13it/s]               \n"
     ]
    },
    {
     "name": "stdout",
     "output_type": "stream",
     "text": [
      "Epoch 291 of 300\n"
     ]
    },
    {
     "name": "stderr",
     "output_type": "stream",
     "text": [
      "14it [00:01, 12.75it/s]                        \n",
      "2it [00:00, 21.70it/s]               \n"
     ]
    },
    {
     "name": "stdout",
     "output_type": "stream",
     "text": [
      "Epoch 292 of 300\n"
     ]
    },
    {
     "name": "stderr",
     "output_type": "stream",
     "text": [
      "14it [00:01, 12.36it/s]                        \n",
      "2it [00:00, 14.37it/s]               \n"
     ]
    },
    {
     "name": "stdout",
     "output_type": "stream",
     "text": [
      "Epoch 293 of 300\n"
     ]
    },
    {
     "name": "stderr",
     "output_type": "stream",
     "text": [
      "14it [00:01, 12.67it/s]                        \n",
      "2it [00:00, 14.04it/s]                       \n"
     ]
    },
    {
     "name": "stdout",
     "output_type": "stream",
     "text": [
      "Epoch 294 of 300\n"
     ]
    },
    {
     "name": "stderr",
     "output_type": "stream",
     "text": [
      "14it [00:01, 13.71it/s]                        \n",
      "2it [00:00, 20.38it/s]               \n"
     ]
    },
    {
     "name": "stdout",
     "output_type": "stream",
     "text": [
      "Epoch 295 of 300\n"
     ]
    },
    {
     "name": "stderr",
     "output_type": "stream",
     "text": [
      "14it [00:00, 14.70it/s]                        \n",
      "2it [00:00, 18.33it/s]               \n"
     ]
    },
    {
     "name": "stdout",
     "output_type": "stream",
     "text": [
      "Epoch 296 of 300\n"
     ]
    },
    {
     "name": "stderr",
     "output_type": "stream",
     "text": [
      "14it [00:01, 13.06it/s]                        \n",
      "2it [00:00, 18.12it/s]               \n"
     ]
    },
    {
     "name": "stdout",
     "output_type": "stream",
     "text": [
      "Epoch 297 of 300\n"
     ]
    },
    {
     "name": "stderr",
     "output_type": "stream",
     "text": [
      "14it [00:01, 13.57it/s]                        \n",
      "2it [00:00, 16.13it/s]               \n"
     ]
    },
    {
     "name": "stdout",
     "output_type": "stream",
     "text": [
      "Epoch 298 of 300\n"
     ]
    },
    {
     "name": "stderr",
     "output_type": "stream",
     "text": [
      "14it [00:01, 13.10it/s]                        \n",
      "2it [00:00, 14.76it/s]               \n"
     ]
    },
    {
     "name": "stdout",
     "output_type": "stream",
     "text": [
      "Epoch 299 of 300\n"
     ]
    },
    {
     "name": "stderr",
     "output_type": "stream",
     "text": [
      "14it [00:01, 12.99it/s]                        \n",
      "2it [00:00, 18.75it/s]               \n"
     ]
    },
    {
     "name": "stdout",
     "output_type": "stream",
     "text": [
      "Epoch 300 of 300\n"
     ]
    },
    {
     "name": "stderr",
     "output_type": "stream",
     "text": [
      "14it [00:01, 12.53it/s]                        \n",
      "2it [00:00, 21.77it/s]               \n"
     ]
    },
    {
     "name": "stdout",
     "output_type": "stream",
     "text": [
      "DONE TRAINING\n"
     ]
    },
    {
     "data": {
      "image/png": "[encoded data removed]",
      "text/plain": [
       "<Figure size 1000x700 with 1 Axes>"
      ]
     },
     "metadata": {},
     "output_type": "display_data"
    }
   ],
   "source": [
    "train_loss = []\n",
    "val_loss = []\n",
    "\n",
    "for epoch in range(EPOCHS):\n",
    "    print(f\"Epoch {epoch+1} of {EPOCHS}\")\n",
    "    # 開始時刻及びフォーマット\n",
    "    start_time = dt.datetime.now()\n",
    "    formatted_start_time = start_time.strftime('%Y-%m-%d %H:%M:%S')\n",
    "\n",
    "    # lap_time = end_time - start_time\n",
    "\n",
    "    train_epoch_loss = fit(model,train_loader,train_tensor_data,optimizer,criterion)\n",
    "    val_epoch_loss = validate(model,valid_loader,valid_tensor_data,criterion)\n",
    "    train_loss.append(train_epoch_loss)\n",
    "    val_loss.append(val_epoch_loss)\n",
    "\n",
    "    if epoch % 25 == 0:\n",
    "        print(f\"Train Loss: {train_epoch_loss:.4f}\")\n",
    "        print(f\"Val Loss: {val_epoch_loss:.4f}\")\n",
    "\n",
    "    # ラップタイムを計算する\n",
    "    end_time = dt.datetime.now()\n",
    "    lap_time = end_time - start_time\n",
    "\n",
    "    record_progress_vram_information(f\"{info_dir_path}/{now_str}_LossInfo.csv\",epoch,formatted_start_time,lap_time,train_epoch_loss,val_epoch_loss)\n",
    "\n",
    "plt.figure(figsize=(10,7))\n",
    "plt.plot(train_loss,color=\"orange\",label=\"train loss\")\n",
    "plt.plot(val_loss,color=\"red\",label=\"validation loss\")\n",
    "plt.xlabel(\"Epochs\")\n",
    "plt.ylabel(\"Loss\")\n",
    "plt.legend()\n",
    "plt.savefig(f\"{info_dir_path}/loss.png\")\n",
    "\n",
    "torch.save({\n",
    "            'epoch': EPOCHS,\n",
    "            'model_state_dict': model.state_dict(),\n",
    "            'optimizer_state_dict': optimizer.state_dict(),\n",
    "            'loss': criterion,\n",
    "            }, f\"{info_dir_path}/model.pth\")\n",
    "print('DONE TRAINING')\n"
   ]
  },
  {
   "cell_type": "code",
   "execution_count": null,
   "metadata": {},
   "outputs": [],
   "source": []
  }
 ],
 "metadata": {
  "kernelspec": {
   "display_name": "Python 3",
   "language": "python",
   "name": "python3"
  },
  "language_info": {
   "codemirror_mode": {
    "name": "ipython",
    "version": 3
   },
   "file_extension": ".py",
   "mimetype": "text/x-python",
   "name": "python",
   "nbconvert_exporter": "python",
   "pygments_lexer": "ipython3",
   "version": "3.8.10"
  },
  "orig_nbformat": 4
 },
 "nbformat": 4,
 "nbformat_minor": 2
}
